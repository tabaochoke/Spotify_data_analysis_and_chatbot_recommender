{
 "cells": [
  {
   "cell_type": "code",
   "execution_count": 3,
   "metadata": {},
   "outputs": [
    {
     "data": {
      "text/html": [
       "<div>\n",
       "<style scoped>\n",
       "    .dataframe tbody tr th:only-of-type {\n",
       "        vertical-align: middle;\n",
       "    }\n",
       "\n",
       "    .dataframe tbody tr th {\n",
       "        vertical-align: top;\n",
       "    }\n",
       "\n",
       "    .dataframe thead th {\n",
       "        text-align: right;\n",
       "    }\n",
       "</style>\n",
       "<table border=\"1\" class=\"dataframe\">\n",
       "  <thead>\n",
       "    <tr style=\"text-align: right;\">\n",
       "      <th></th>\n",
       "      <th>danceability</th>\n",
       "      <th>energy</th>\n",
       "      <th>key</th>\n",
       "      <th>loudness</th>\n",
       "      <th>mode</th>\n",
       "      <th>speechiness</th>\n",
       "      <th>acousticness</th>\n",
       "      <th>instrumentalness</th>\n",
       "      <th>liveness</th>\n",
       "      <th>valence</th>\n",
       "      <th>...</th>\n",
       "      <th>duration_ms</th>\n",
       "      <th>time_signature</th>\n",
       "      <th>popularity</th>\n",
       "      <th>song_name</th>\n",
       "      <th>artist_name</th>\n",
       "      <th>genius_id</th>\n",
       "      <th>lyric</th>\n",
       "      <th>tags</th>\n",
       "      <th>tier</th>\n",
       "      <th>released_year</th>\n",
       "    </tr>\n",
       "  </thead>\n",
       "  <tbody>\n",
       "    <tr>\n",
       "      <th>0</th>\n",
       "      <td>0.507</td>\n",
       "      <td>0.394</td>\n",
       "      <td>6</td>\n",
       "      <td>-7.188</td>\n",
       "      <td>0</td>\n",
       "      <td>0.035</td>\n",
       "      <td>0.508</td>\n",
       "      <td>0.0</td>\n",
       "      <td>0.0825</td>\n",
       "      <td>0.164</td>\n",
       "      <td>...</td>\n",
       "      <td>167247</td>\n",
       "      <td>4</td>\n",
       "      <td>85</td>\n",
       "      <td>Shot Glass of Tears</td>\n",
       "      <td>Jung Kook</td>\n",
       "      <td>9626003</td>\n",
       "      <td>Tell me, am I ever gonna feel again? Tell me,...</td>\n",
       "      <td>pop</td>\n",
       "      <td>C</td>\n",
       "      <td>2023.0</td>\n",
       "    </tr>\n",
       "  </tbody>\n",
       "</table>\n",
       "<p>1 rows × 22 columns</p>\n",
       "</div>"
      ],
      "text/plain": [
       "   danceability  energy  key  loudness  mode  speechiness  acousticness  \\\n",
       "0         0.507   0.394    6    -7.188     0        0.035         0.508   \n",
       "\n",
       "   instrumentalness  liveness  valence  ...  duration_ms time_signature  \\\n",
       "0               0.0    0.0825    0.164  ...       167247              4   \n",
       "\n",
       "   popularity            song_name  artist_name genius_id  \\\n",
       "0          85  Shot Glass of Tears    Jung Kook   9626003   \n",
       "\n",
       "                                               lyric  tags tier released_year  \n",
       "0   Tell me, am I ever gonna feel again? Tell me,...   pop    C        2023.0  \n",
       "\n",
       "[1 rows x 22 columns]"
      ]
     },
     "execution_count": 3,
     "metadata": {},
     "output_type": "execute_result"
    }
   ],
   "source": [
    "import pandas as pd \n",
    "data = pd.read_csv (\"./processed_data.csv\")\n",
    "data.head (1)"
   ]
  },
  {
   "cell_type": "code",
   "execution_count": 29,
   "metadata": {},
   "outputs": [],
   "source": [
    "\n",
    "i = 0\n",
    "file_path = 'example.txt'\n",
    "for row in range ( len (data) ) :     \n",
    "    with open(file_path, 'a' , encoding='utf-8') as file:\n",
    "        information = \"\\n Song \" + str (row + 1) + \" : \" \n",
    "        for col in data.columns.to_list () :\n",
    "            information +=  col + \": \"  + str ( data.iloc[row][col] ) + \" ,\" \n",
    "        file.write(information)\n",
    "        if i == 50 :\n",
    "            break \n",
    "        i += 1"
   ]
  },
  {
   "cell_type": "code",
   "execution_count": 19,
   "metadata": {},
   "outputs": [
    {
     "data": {
      "text/plain": [
       "'Song 1 : danceability: 0.507 ,energy: 0.394 ,key: 6 ,loudness: -7.188 ,mode: 0 ,speechiness: 0.035 ,acousticness: 0.508 ,instrumentalness: 0.0 ,liveness: 0.0825 ,valence: 0.164 ,tempo: 77.955 ,id: 7AbqgE05nFl9qY4FRUiq2p ,duration_ms: 167247 ,time_signature: 4 ,popularity: 85 ,song_name: Shot Glass of Tears ,artist_name: Jung Kook ,genius_id: 9626003 ,lyric:  Tell me, am I ever gonna feel again? Tell me, am I ever gonna heal again? Got a shot glass full of tears Drink, drink, drink, say \"Cheers\" I got all these diamonds running down my face And I ain\\'t letting any of \\'em go to waste Got a shot glass full of tears She the life of the party Forty-two in her body She\\'s got some dangerous hobbies Like chasing after the sun And making me fall in love Till I\\'m sick to my stomach (Sick to my stomach) Until I throw back a dozen Until I\\'m driving a hundred With my hands off the wheel Just to see how it feels Tell me, am I ever gonna feel again? Tell me, am I ever gonna heal again? Got a shot glass full of tears Drink, drink, drink, say \"Cheers\" I got all these diamonds running down my face And I ain\\'t letting any of \\'em go to waste Got a shot glass full of tears Drink, drink, drink, say \"Cheers\" (Oh-oh, oh-oh) Drink, drink, drink, say \"Cheers\" (Oh-oh, oh-oh) It\\'s a hard pill to swallow This emotion I bottle Need something strong for the sorrow Something strong for the pain So, I can wash it away I was cold, now, I\\'m freezing (Cold, now, I\\'m freezing) Stuck in a permanent season (Permanent season) And we both know you\\'re the reason (Know you\\'re the reason) I\\'m not the same as before I don\\'t feel anymore Tell me, am I ever gonna feel again? Tell me, am I ever gonna heal again? Got a shot glass full of tears Drink, drink, drink, say \"Cheers\" I got all these diamonds running down my face And I ain\\'t letting any of \\'em go to waste Got a shot glass full of tears Drink, drink, drink, say \"Cheers\" (Oh-oh, oh-oh) Drink, drink, drink, say \"Cheers\" (Oh-oh, oh-oh) She the life of the party Forty-two in her body She got some dangerous hobbies Like chasing after the sun And making me fall in love  ,tags: pop ,tier: C ,released_year: 2023.0 ,'"
      ]
     },
     "execution_count": 19,
     "metadata": {},
     "output_type": "execute_result"
    }
   ],
   "source": [
    "information"
   ]
  },
  {
   "cell_type": "code",
   "execution_count": 32,
   "metadata": {},
   "outputs": [
    {
     "data": {
      "text/plain": [
       "'[PRODUCT] [PRODUCT NAME]: Jordan Artist Series by Jammie Holmes [PRODUCT TYPE]: Graphic T -Shirt'"
      ]
     },
     "execution_count": 32,
     "metadata": {},
     "output_type": "execute_result"
    }
   ],
   "source": [
    "a[0]"
   ]
  },
  {
   "cell_type": "code",
   "execution_count": null,
   "metadata": {},
   "outputs": [],
   "source": []
  }
 ],
 "metadata": {
  "kernelspec": {
   "display_name": "Python 3",
   "language": "python",
   "name": "python3"
  },
  "language_info": {
   "codemirror_mode": {
    "name": "ipython",
    "version": 3
   },
   "file_extension": ".py",
   "mimetype": "text/x-python",
   "name": "python",
   "nbconvert_exporter": "python",
   "pygments_lexer": "ipython3",
   "version": "3.11.2"
  }
 },
 "nbformat": 4,
 "nbformat_minor": 2
}
