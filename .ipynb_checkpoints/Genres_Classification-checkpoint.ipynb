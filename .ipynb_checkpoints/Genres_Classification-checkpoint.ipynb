{
 "cells": [
  {
   "cell_type": "markdown",
   "id": "b58c49c9-0aa8-416a-b0e7-a3792d40acfd",
   "metadata": {},
   "source": [
    "# Libraries"
   ]
  },
  {
   "cell_type": "code",
   "execution_count": 21,
   "id": "16cbce71-fbd4-430c-ac3c-9b556eaba97b",
   "metadata": {},
   "outputs": [],
   "source": [
    "import pandas as pd\n",
    "import numpy as np\n",
    "\n",
    "from sklearn.ensemble import RandomForestClassifier\n",
    "from sklearn.tree import DecisionTreeClassifier\n",
    "from sklearn.svm import SVC\n",
    "\n",
    "from sklearn.preprocessing import normalize\n",
    "from sklearn.preprocessing import MinMaxScaler\n",
    "from sklearn.model_selection import train_test_split\n",
    "from sklearn.model_selection import GridSearchCV\n",
    "from sklearn.metrics import classification_report, accuracy_score\n",
    "from sklearn.feature_selection import SelectKBest, chi2\n",
    "from sklearn.feature_selection import RFE\n",
    "\n",
    "import matplotlib.pyplot as plt\n",
    "import seaborn as sns\n",
    "\n",
    "import warnings\n",
    "warnings.filterwarnings('ignore')"
   ]
  },
  {
   "cell_type": "markdown",
   "id": "05925ec3-3ea1-4ca5-b6a6-d22ca38d1a8d",
   "metadata": {},
   "source": [
    "# Read DataFrame"
   ]
  },
  {
   "cell_type": "code",
   "execution_count": 22,
   "id": "ccc8d2e5-3699-47bb-b0da-de65da571077",
   "metadata": {
    "scrolled": true
   },
   "outputs": [
    {
     "data": {
      "text/html": [
       "<div>\n",
       "<style scoped>\n",
       "    .dataframe tbody tr th:only-of-type {\n",
       "        vertical-align: middle;\n",
       "    }\n",
       "\n",
       "    .dataframe tbody tr th {\n",
       "        vertical-align: top;\n",
       "    }\n",
       "\n",
       "    .dataframe thead th {\n",
       "        text-align: right;\n",
       "    }\n",
       "</style>\n",
       "<table border=\"1\" class=\"dataframe\">\n",
       "  <thead>\n",
       "    <tr style=\"text-align: right;\">\n",
       "      <th></th>\n",
       "      <th>danceability</th>\n",
       "      <th>energy</th>\n",
       "      <th>key</th>\n",
       "      <th>loudness</th>\n",
       "      <th>mode</th>\n",
       "      <th>speechiness</th>\n",
       "      <th>acousticness</th>\n",
       "      <th>instrumentalness</th>\n",
       "      <th>liveness</th>\n",
       "      <th>valence</th>\n",
       "      <th>...</th>\n",
       "      <th>time_signature</th>\n",
       "      <th>popularity</th>\n",
       "      <th>song_name</th>\n",
       "      <th>artist_name</th>\n",
       "      <th>genius_id</th>\n",
       "      <th>lyric</th>\n",
       "      <th>tags</th>\n",
       "      <th>tier</th>\n",
       "      <th>genius_url</th>\n",
       "      <th>released_year</th>\n",
       "    </tr>\n",
       "  </thead>\n",
       "  <tbody>\n",
       "    <tr>\n",
       "      <th>0</th>\n",
       "      <td>0.507</td>\n",
       "      <td>0.394</td>\n",
       "      <td>6</td>\n",
       "      <td>-7.188</td>\n",
       "      <td>0</td>\n",
       "      <td>0.0350</td>\n",
       "      <td>0.5080</td>\n",
       "      <td>0.000</td>\n",
       "      <td>0.0825</td>\n",
       "      <td>0.164</td>\n",
       "      <td>...</td>\n",
       "      <td>4</td>\n",
       "      <td>85</td>\n",
       "      <td>Shot Glass of Tears</td>\n",
       "      <td>Jung Kook</td>\n",
       "      <td>9626003</td>\n",
       "      <td>Tell me, am I ever gonna feel again? Tell me,...</td>\n",
       "      <td>pop</td>\n",
       "      <td>C</td>\n",
       "      <td>https://genius.com/Jung-kook-shot-glass-of-tea...</td>\n",
       "      <td>2023.0</td>\n",
       "    </tr>\n",
       "    <tr>\n",
       "      <th>1</th>\n",
       "      <td>0.842</td>\n",
       "      <td>0.734</td>\n",
       "      <td>1</td>\n",
       "      <td>-5.065</td>\n",
       "      <td>0</td>\n",
       "      <td>0.0588</td>\n",
       "      <td>0.0427</td>\n",
       "      <td>0.000</td>\n",
       "      <td>0.1060</td>\n",
       "      <td>0.952</td>\n",
       "      <td>...</td>\n",
       "      <td>4</td>\n",
       "      <td>81</td>\n",
       "      <td>Sucker</td>\n",
       "      <td>Jonas Brothers</td>\n",
       "      <td>4350998</td>\n",
       "      <td>We go together Better than birds of a feather...</td>\n",
       "      <td>pop</td>\n",
       "      <td>D</td>\n",
       "      <td>https://genius.com/Jonas-brothers-sucker-lyrics</td>\n",
       "      <td>2019.0</td>\n",
       "    </tr>\n",
       "    <tr>\n",
       "      <th>2</th>\n",
       "      <td>0.759</td>\n",
       "      <td>0.561</td>\n",
       "      <td>0</td>\n",
       "      <td>-5.643</td>\n",
       "      <td>0</td>\n",
       "      <td>0.1310</td>\n",
       "      <td>0.8030</td>\n",
       "      <td>0.121</td>\n",
       "      <td>0.1010</td>\n",
       "      <td>0.491</td>\n",
       "      <td>...</td>\n",
       "      <td>4</td>\n",
       "      <td>82</td>\n",
       "      <td>VISTA AL MAR</td>\n",
       "      <td>Quevedo</td>\n",
       "      <td>8357473</td>\n",
       "      <td>BlueFire Rápido llega' y rápido te vas (Vas) ...</td>\n",
       "      <td>pop</td>\n",
       "      <td>E</td>\n",
       "      <td>https://genius.com/Quevedo-vista-al-mar-lyrics</td>\n",
       "      <td>2022.0</td>\n",
       "    </tr>\n",
       "  </tbody>\n",
       "</table>\n",
       "<p>3 rows × 23 columns</p>\n",
       "</div>"
      ],
      "text/plain": [
       "   danceability  energy  key  loudness  mode  speechiness  acousticness  \\\n",
       "0         0.507   0.394    6    -7.188     0       0.0350        0.5080   \n",
       "1         0.842   0.734    1    -5.065     0       0.0588        0.0427   \n",
       "2         0.759   0.561    0    -5.643     0       0.1310        0.8030   \n",
       "\n",
       "   instrumentalness  liveness  valence  ...  time_signature popularity  \\\n",
       "0             0.000    0.0825    0.164  ...               4         85   \n",
       "1             0.000    0.1060    0.952  ...               4         81   \n",
       "2             0.121    0.1010    0.491  ...               4         82   \n",
       "\n",
       "             song_name     artist_name  genius_id  \\\n",
       "0  Shot Glass of Tears       Jung Kook    9626003   \n",
       "1               Sucker  Jonas Brothers    4350998   \n",
       "2         VISTA AL MAR         Quevedo    8357473   \n",
       "\n",
       "                                               lyric tags  tier  \\\n",
       "0   Tell me, am I ever gonna feel again? Tell me,...  pop     C   \n",
       "1   We go together Better than birds of a feather...  pop     D   \n",
       "2   BlueFire Rápido llega' y rápido te vas (Vas) ...  pop     E   \n",
       "\n",
       "                                          genius_url released_year  \n",
       "0  https://genius.com/Jung-kook-shot-glass-of-tea...        2023.0  \n",
       "1    https://genius.com/Jonas-brothers-sucker-lyrics        2019.0  \n",
       "2     https://genius.com/Quevedo-vista-al-mar-lyrics        2022.0  \n",
       "\n",
       "[3 rows x 23 columns]"
      ]
     },
     "execution_count": 22,
     "metadata": {},
     "output_type": "execute_result"
    }
   ],
   "source": [
    "df = pd.read_csv(\"processed_data.csv\")\n",
    "df.head(3)"
   ]
  },
  {
   "cell_type": "markdown",
   "id": "00873b86-1836-4c41-b91f-3d3272cebd01",
   "metadata": {},
   "source": [
    "## Data normalization\n",
    "Sử dụng phương pháp MinMaxScaler() của sklearn nhằm đưa giá trị của các phần tử numeric được train về giá trị 0, 1 giúp tăng độ chính xác."
   ]
  },
  {
   "cell_type": "code",
   "execution_count": 23,
   "id": "61219647-e4a6-47fb-b8f3-961c91e5d1e9",
   "metadata": {},
   "outputs": [],
   "source": [
    "scaler = MinMaxScaler()"
   ]
  },
  {
   "cell_type": "code",
   "execution_count": 24,
   "id": "41be395b-15ca-4ce4-bc46-9357933deba0",
   "metadata": {},
   "outputs": [],
   "source": [
    "df_normalized = df.copy()\n",
    "df_normalized = df_normalized.drop(columns=['id'])\n",
    "df_normalized.iloc[:, :-8] = pd.DataFrame(scaler.fit_transform(df_normalized.iloc[:, :-8]), columns=df_normalized.iloc[:, :-8].columns)"
   ]
  },
  {
   "cell_type": "code",
   "execution_count": 25,
   "id": "4b32cdd9-29f6-4f29-bfb4-9bee5a68411d",
   "metadata": {
    "scrolled": true
   },
   "outputs": [
    {
     "data": {
      "text/html": [
       "<div>\n",
       "<style scoped>\n",
       "    .dataframe tbody tr th:only-of-type {\n",
       "        vertical-align: middle;\n",
       "    }\n",
       "\n",
       "    .dataframe tbody tr th {\n",
       "        vertical-align: top;\n",
       "    }\n",
       "\n",
       "    .dataframe thead th {\n",
       "        text-align: right;\n",
       "    }\n",
       "</style>\n",
       "<table border=\"1\" class=\"dataframe\">\n",
       "  <thead>\n",
       "    <tr style=\"text-align: right;\">\n",
       "      <th></th>\n",
       "      <th>danceability</th>\n",
       "      <th>energy</th>\n",
       "      <th>key</th>\n",
       "      <th>loudness</th>\n",
       "      <th>mode</th>\n",
       "      <th>speechiness</th>\n",
       "      <th>acousticness</th>\n",
       "      <th>instrumentalness</th>\n",
       "      <th>liveness</th>\n",
       "      <th>valence</th>\n",
       "      <th>...</th>\n",
       "      <th>time_signature</th>\n",
       "      <th>popularity</th>\n",
       "      <th>song_name</th>\n",
       "      <th>artist_name</th>\n",
       "      <th>genius_id</th>\n",
       "      <th>lyric</th>\n",
       "      <th>tags</th>\n",
       "      <th>tier</th>\n",
       "      <th>genius_url</th>\n",
       "      <th>released_year</th>\n",
       "    </tr>\n",
       "  </thead>\n",
       "  <tbody>\n",
       "    <tr>\n",
       "      <th>0</th>\n",
       "      <td>0.435897</td>\n",
       "      <td>0.387650</td>\n",
       "      <td>0.545455</td>\n",
       "      <td>0.752007</td>\n",
       "      <td>0.0</td>\n",
       "      <td>0.021643</td>\n",
       "      <td>0.513646</td>\n",
       "      <td>0.000000</td>\n",
       "      <td>0.069130</td>\n",
       "      <td>0.161432</td>\n",
       "      <td>...</td>\n",
       "      <td>0.75</td>\n",
       "      <td>0.25</td>\n",
       "      <td>Shot Glass of Tears</td>\n",
       "      <td>Jung Kook</td>\n",
       "      <td>9626003</td>\n",
       "      <td>Tell me, am I ever gonna feel again? Tell me,...</td>\n",
       "      <td>pop</td>\n",
       "      <td>C</td>\n",
       "      <td>https://genius.com/Jung-kook-shot-glass-of-tea...</td>\n",
       "      <td>2023.0</td>\n",
       "    </tr>\n",
       "    <tr>\n",
       "      <th>1</th>\n",
       "      <td>0.844933</td>\n",
       "      <td>0.736977</td>\n",
       "      <td>0.090909</td>\n",
       "      <td>0.830893</td>\n",
       "      <td>0.0</td>\n",
       "      <td>0.063523</td>\n",
       "      <td>0.043168</td>\n",
       "      <td>0.000000</td>\n",
       "      <td>0.096526</td>\n",
       "      <td>0.970234</td>\n",
       "      <td>...</td>\n",
       "      <td>0.75</td>\n",
       "      <td>0.05</td>\n",
       "      <td>Sucker</td>\n",
       "      <td>Jonas Brothers</td>\n",
       "      <td>4350998</td>\n",
       "      <td>We go together Better than birds of a feather...</td>\n",
       "      <td>pop</td>\n",
       "      <td>D</td>\n",
       "      <td>https://genius.com/Jonas-brothers-sucker-lyrics</td>\n",
       "      <td>2019.0</td>\n",
       "    </tr>\n",
       "    <tr>\n",
       "      <th>2</th>\n",
       "      <td>0.743590</td>\n",
       "      <td>0.559231</td>\n",
       "      <td>0.000000</td>\n",
       "      <td>0.809416</td>\n",
       "      <td>0.0</td>\n",
       "      <td>0.190568</td>\n",
       "      <td>0.811930</td>\n",
       "      <td>0.122594</td>\n",
       "      <td>0.090697</td>\n",
       "      <td>0.497064</td>\n",
       "      <td>...</td>\n",
       "      <td>0.75</td>\n",
       "      <td>0.10</td>\n",
       "      <td>VISTA AL MAR</td>\n",
       "      <td>Quevedo</td>\n",
       "      <td>8357473</td>\n",
       "      <td>BlueFire Rápido llega' y rápido te vas (Vas) ...</td>\n",
       "      <td>pop</td>\n",
       "      <td>E</td>\n",
       "      <td>https://genius.com/Quevedo-vista-al-mar-lyrics</td>\n",
       "      <td>2022.0</td>\n",
       "    </tr>\n",
       "    <tr>\n",
       "      <th>3</th>\n",
       "      <td>0.700855</td>\n",
       "      <td>0.631152</td>\n",
       "      <td>0.363636</td>\n",
       "      <td>0.854860</td>\n",
       "      <td>0.0</td>\n",
       "      <td>0.080767</td>\n",
       "      <td>0.251764</td>\n",
       "      <td>0.000000</td>\n",
       "      <td>0.221264</td>\n",
       "      <td>0.975366</td>\n",
       "      <td>...</td>\n",
       "      <td>0.75</td>\n",
       "      <td>0.10</td>\n",
       "      <td>WANDA</td>\n",
       "      <td>Quevedo</td>\n",
       "      <td>8719683</td>\n",
       "      <td>O-O-Ovy On The Drums Es usted o nadie, ¿oyó? ...</td>\n",
       "      <td>pop</td>\n",
       "      <td>E</td>\n",
       "      <td>https://genius.com/Quevedo-wanda-lyrics</td>\n",
       "      <td>2023.0</td>\n",
       "    </tr>\n",
       "    <tr>\n",
       "      <th>4</th>\n",
       "      <td>0.750916</td>\n",
       "      <td>0.348608</td>\n",
       "      <td>1.000000</td>\n",
       "      <td>0.812649</td>\n",
       "      <td>0.0</td>\n",
       "      <td>0.303185</td>\n",
       "      <td>0.225474</td>\n",
       "      <td>0.000000</td>\n",
       "      <td>0.085218</td>\n",
       "      <td>0.187092</td>\n",
       "      <td>...</td>\n",
       "      <td>0.75</td>\n",
       "      <td>0.30</td>\n",
       "      <td>Don't</td>\n",
       "      <td>Bryson Tiller</td>\n",
       "      <td>579968</td>\n",
       "      <td>Don't, don't play with her, don't be dishones...</td>\n",
       "      <td>r-b</td>\n",
       "      <td>C</td>\n",
       "      <td>https://genius.com/Bryson-tiller-dont-lyrics</td>\n",
       "      <td>2014.0</td>\n",
       "    </tr>\n",
       "    <tr>\n",
       "      <th>...</th>\n",
       "      <td>...</td>\n",
       "      <td>...</td>\n",
       "      <td>...</td>\n",
       "      <td>...</td>\n",
       "      <td>...</td>\n",
       "      <td>...</td>\n",
       "      <td>...</td>\n",
       "      <td>...</td>\n",
       "      <td>...</td>\n",
       "      <td>...</td>\n",
       "      <td>...</td>\n",
       "      <td>...</td>\n",
       "      <td>...</td>\n",
       "      <td>...</td>\n",
       "      <td>...</td>\n",
       "      <td>...</td>\n",
       "      <td>...</td>\n",
       "      <td>...</td>\n",
       "      <td>...</td>\n",
       "      <td>...</td>\n",
       "      <td>...</td>\n",
       "    </tr>\n",
       "    <tr>\n",
       "      <th>1448</th>\n",
       "      <td>0.416361</td>\n",
       "      <td>0.694853</td>\n",
       "      <td>0.000000</td>\n",
       "      <td>0.778054</td>\n",
       "      <td>0.0</td>\n",
       "      <td>0.026395</td>\n",
       "      <td>0.213341</td>\n",
       "      <td>0.000007</td>\n",
       "      <td>0.351830</td>\n",
       "      <td>0.415979</td>\n",
       "      <td>...</td>\n",
       "      <td>0.75</td>\n",
       "      <td>0.25</td>\n",
       "      <td>Hymn for the Weekend</td>\n",
       "      <td>Coldplay</td>\n",
       "      <td>2353271</td>\n",
       "      <td>And said drink from me, drink from me (Oh-ah-...</td>\n",
       "      <td>r-b</td>\n",
       "      <td>C</td>\n",
       "      <td>https://genius.com/Coldplay-hymn-for-the-weeke...</td>\n",
       "      <td>2016.0</td>\n",
       "    </tr>\n",
       "    <tr>\n",
       "      <th>1449</th>\n",
       "      <td>0.655678</td>\n",
       "      <td>0.796568</td>\n",
       "      <td>0.454545</td>\n",
       "      <td>0.916952</td>\n",
       "      <td>1.0</td>\n",
       "      <td>0.039592</td>\n",
       "      <td>0.193118</td>\n",
       "      <td>0.000000</td>\n",
       "      <td>0.167638</td>\n",
       "      <td>0.681816</td>\n",
       "      <td>...</td>\n",
       "      <td>0.75</td>\n",
       "      <td>0.30</td>\n",
       "      <td>Happier</td>\n",
       "      <td>Marshmello</td>\n",
       "      <td>3792450</td>\n",
       "      <td>Lately, I've been, I've been thinking I want ...</td>\n",
       "      <td>pop</td>\n",
       "      <td>D</td>\n",
       "      <td>https://genius.com/Marshmello-and-bastille-hap...</td>\n",
       "      <td>2018.0</td>\n",
       "    </tr>\n",
       "    <tr>\n",
       "      <th>1450</th>\n",
       "      <td>0.954823</td>\n",
       "      <td>0.452379</td>\n",
       "      <td>1.000000</td>\n",
       "      <td>0.661638</td>\n",
       "      <td>0.0</td>\n",
       "      <td>0.055253</td>\n",
       "      <td>0.017485</td>\n",
       "      <td>0.044174</td>\n",
       "      <td>0.021217</td>\n",
       "      <td>0.900439</td>\n",
       "      <td>...</td>\n",
       "      <td>0.75</td>\n",
       "      <td>0.05</td>\n",
       "      <td>Billie Jean</td>\n",
       "      <td>Michael Jackson</td>\n",
       "      <td>1644</td>\n",
       "      <td>She was more like a beauty queen from a movie...</td>\n",
       "      <td>pop</td>\n",
       "      <td>C</td>\n",
       "      <td>https://genius.com/Michael-jackson-billie-jean...</td>\n",
       "      <td>1982.0</td>\n",
       "    </tr>\n",
       "    <tr>\n",
       "      <th>1451</th>\n",
       "      <td>0.175824</td>\n",
       "      <td>0.641426</td>\n",
       "      <td>1.000000</td>\n",
       "      <td>0.672934</td>\n",
       "      <td>1.0</td>\n",
       "      <td>0.011262</td>\n",
       "      <td>0.016474</td>\n",
       "      <td>0.222898</td>\n",
       "      <td>0.103521</td>\n",
       "      <td>0.225069</td>\n",
       "      <td>...</td>\n",
       "      <td>0.75</td>\n",
       "      <td>0.10</td>\n",
       "      <td>November Rain</td>\n",
       "      <td>Guns N' Roses</td>\n",
       "      <td>84547</td>\n",
       "      <td>When I look into your eyes I can see a love r...</td>\n",
       "      <td>rock</td>\n",
       "      <td>D</td>\n",
       "      <td>https://genius.com/Guns-n-roses-november-rain-...</td>\n",
       "      <td>1991.0</td>\n",
       "    </tr>\n",
       "    <tr>\n",
       "      <th>1452</th>\n",
       "      <td>0.774115</td>\n",
       "      <td>0.831501</td>\n",
       "      <td>0.636364</td>\n",
       "      <td>0.783517</td>\n",
       "      <td>0.0</td>\n",
       "      <td>0.054725</td>\n",
       "      <td>0.097566</td>\n",
       "      <td>0.000072</td>\n",
       "      <td>0.116344</td>\n",
       "      <td>0.909677</td>\n",
       "      <td>...</td>\n",
       "      <td>0.50</td>\n",
       "      <td>0.05</td>\n",
       "      <td>PRC</td>\n",
       "      <td>Peso Pluma</td>\n",
       "      <td>8736705</td>\n",
       "      <td>Me levanto, un baño y luego me pongo a forjar...</td>\n",
       "      <td>pop</td>\n",
       "      <td>D</td>\n",
       "      <td>https://genius.com/Peso-pluma-and-natanael-can...</td>\n",
       "      <td>2023.0</td>\n",
       "    </tr>\n",
       "  </tbody>\n",
       "</table>\n",
       "<p>1453 rows × 22 columns</p>\n",
       "</div>"
      ],
      "text/plain": [
       "      danceability    energy       key  loudness  mode  speechiness  \\\n",
       "0         0.435897  0.387650  0.545455  0.752007   0.0     0.021643   \n",
       "1         0.844933  0.736977  0.090909  0.830893   0.0     0.063523   \n",
       "2         0.743590  0.559231  0.000000  0.809416   0.0     0.190568   \n",
       "3         0.700855  0.631152  0.363636  0.854860   0.0     0.080767   \n",
       "4         0.750916  0.348608  1.000000  0.812649   0.0     0.303185   \n",
       "...            ...       ...       ...       ...   ...          ...   \n",
       "1448      0.416361  0.694853  0.000000  0.778054   0.0     0.026395   \n",
       "1449      0.655678  0.796568  0.454545  0.916952   1.0     0.039592   \n",
       "1450      0.954823  0.452379  1.000000  0.661638   0.0     0.055253   \n",
       "1451      0.175824  0.641426  1.000000  0.672934   1.0     0.011262   \n",
       "1452      0.774115  0.831501  0.636364  0.783517   0.0     0.054725   \n",
       "\n",
       "      acousticness  instrumentalness  liveness   valence  ...  time_signature  \\\n",
       "0         0.513646          0.000000  0.069130  0.161432  ...            0.75   \n",
       "1         0.043168          0.000000  0.096526  0.970234  ...            0.75   \n",
       "2         0.811930          0.122594  0.090697  0.497064  ...            0.75   \n",
       "3         0.251764          0.000000  0.221264  0.975366  ...            0.75   \n",
       "4         0.225474          0.000000  0.085218  0.187092  ...            0.75   \n",
       "...            ...               ...       ...       ...  ...             ...   \n",
       "1448      0.213341          0.000007  0.351830  0.415979  ...            0.75   \n",
       "1449      0.193118          0.000000  0.167638  0.681816  ...            0.75   \n",
       "1450      0.017485          0.044174  0.021217  0.900439  ...            0.75   \n",
       "1451      0.016474          0.222898  0.103521  0.225069  ...            0.75   \n",
       "1452      0.097566          0.000072  0.116344  0.909677  ...            0.50   \n",
       "\n",
       "      popularity             song_name      artist_name genius_id  \\\n",
       "0           0.25   Shot Glass of Tears        Jung Kook   9626003   \n",
       "1           0.05                Sucker   Jonas Brothers   4350998   \n",
       "2           0.10          VISTA AL MAR          Quevedo   8357473   \n",
       "3           0.10                 WANDA          Quevedo   8719683   \n",
       "4           0.30                 Don't    Bryson Tiller    579968   \n",
       "...          ...                   ...              ...       ...   \n",
       "1448        0.25  Hymn for the Weekend         Coldplay   2353271   \n",
       "1449        0.30               Happier       Marshmello   3792450   \n",
       "1450        0.05           Billie Jean  Michael Jackson      1644   \n",
       "1451        0.10         November Rain    Guns N' Roses     84547   \n",
       "1452        0.05                   PRC       Peso Pluma   8736705   \n",
       "\n",
       "                                                  lyric  tags tier  \\\n",
       "0      Tell me, am I ever gonna feel again? Tell me,...   pop    C   \n",
       "1      We go together Better than birds of a feather...   pop    D   \n",
       "2      BlueFire Rápido llega' y rápido te vas (Vas) ...   pop    E   \n",
       "3      O-O-Ovy On The Drums Es usted o nadie, ¿oyó? ...   pop    E   \n",
       "4      Don't, don't play with her, don't be dishones...   r-b    C   \n",
       "...                                                 ...   ...  ...   \n",
       "1448   And said drink from me, drink from me (Oh-ah-...   r-b    C   \n",
       "1449   Lately, I've been, I've been thinking I want ...   pop    D   \n",
       "1450   She was more like a beauty queen from a movie...   pop    C   \n",
       "1451   When I look into your eyes I can see a love r...  rock    D   \n",
       "1452   Me levanto, un baño y luego me pongo a forjar...   pop    D   \n",
       "\n",
       "                                             genius_url released_year  \n",
       "0     https://genius.com/Jung-kook-shot-glass-of-tea...        2023.0  \n",
       "1       https://genius.com/Jonas-brothers-sucker-lyrics        2019.0  \n",
       "2        https://genius.com/Quevedo-vista-al-mar-lyrics        2022.0  \n",
       "3               https://genius.com/Quevedo-wanda-lyrics        2023.0  \n",
       "4          https://genius.com/Bryson-tiller-dont-lyrics        2014.0  \n",
       "...                                                 ...           ...  \n",
       "1448  https://genius.com/Coldplay-hymn-for-the-weeke...        2016.0  \n",
       "1449  https://genius.com/Marshmello-and-bastille-hap...        2018.0  \n",
       "1450  https://genius.com/Michael-jackson-billie-jean...        1982.0  \n",
       "1451  https://genius.com/Guns-n-roses-november-rain-...        1991.0  \n",
       "1452  https://genius.com/Peso-pluma-and-natanael-can...        2023.0  \n",
       "\n",
       "[1453 rows x 22 columns]"
      ]
     },
     "execution_count": 25,
     "metadata": {},
     "output_type": "execute_result"
    }
   ],
   "source": [
    "df_normalized"
   ]
  },
  {
   "cell_type": "markdown",
   "id": "a4c48e8e-b6f9-4016-b3a6-006f2e4b600e",
   "metadata": {},
   "source": [
    "# Train/Test Split\n",
    "Train/Test Split là một công cụ giúp phân chia data thành các tập train, test và validation, có tác dụng kiểm thử và train model.<br>\n",
    "Tỉ lệ phân chia: Train/valid/test = 6/2/2"
   ]
  },
  {
   "cell_type": "code",
   "execution_count": 32,
   "id": "06d2f18f-97d6-425a-acba-b49becd4befd",
   "metadata": {},
   "outputs": [],
   "source": [
    "data = df_normalized.iloc[:, :-8]\n",
    "label = df_normalized.tags"
   ]
  },
  {
   "cell_type": "code",
   "execution_count": 33,
   "id": "30945bd5-b162-4a33-92bd-d3f36be2343f",
   "metadata": {},
   "outputs": [],
   "source": [
    "data_train, data_test, label_train, label_test = train_test_split(data, label, test_size=0.2, random_state=42)"
   ]
  },
  {
   "cell_type": "code",
   "execution_count": 35,
   "id": "38e0778a-6ec1-4491-aebc-81bcd6b2188e",
   "metadata": {},
   "outputs": [],
   "source": [
    "X_train, X_val, y_train, y_val = train_test_split(data_train, label_train, test_size=0.4, random_state=42)"
   ]
  },
  {
   "cell_type": "markdown",
   "id": "3a57ce0a-2341-4767-b8c7-adda6407578e",
   "metadata": {},
   "source": [
    "# DATA distribution\n",
    "Tỉ lệ phân bố các genres trong data, ở đây có hiện tượng imblance data do khó khăn trong việc sử dụng API (Kinh phí).<br>\n",
    "* Pop gernes chiếm tỉ lệ lớn trong data.\n",
    "* Rap và Rock chiếm tỉ lệ vừa phải trong data, nhưng vẫn rất lệch so với pop.\n",
    "* r&b và country là 2 dòng nhạc có ít data nhất"
   ]
  },
  {
   "cell_type": "code",
   "execution_count": 36,
   "id": "194da1bd-80cb-47ba-948d-f19261ce86ea",
   "metadata": {},
   "outputs": [
    {
     "data": {
      "text/plain": [
       "<BarContainer object of 5 artists>"
      ]
     },
     "execution_count": 36,
     "metadata": {},
     "output_type": "execute_result"
    },
    {
     "data": {
      "image/png": "[encoded data removed]",
      "text/plain": [
       "<Figure size 640x480 with 1 Axes>"
      ]
     },
     "metadata": {},
     "output_type": "display_data"
    }
   ],
   "source": [
    "distribution = label.value_counts().to_dict()\n",
    "\n",
    "x = distribution.keys()\n",
    "y = distribution.values()\n",
    "\n",
    "plt.bar(x,y)"
   ]
  },
  {
   "cell_type": "markdown",
   "id": "c21c3561-485c-4522-8347-4bc1008194ca",
   "metadata": {},
   "source": [
    "# Classifier Definition\n",
    "Trong phần exploring model này, nhóm em sẽ chọn sử dụng 3 model máy học của sklearn:\n",
    "* RandomForestClassifier()\n",
    "* DecisionTreeClassifier()\n",
    "* Support Vector Machine()"
   ]
  },
  {
   "cell_type": "code",
   "execution_count": 37,
   "id": "41c37a16-8724-4c8f-8865-d7ab676a436f",
   "metadata": {},
   "outputs": [],
   "source": [
    "rfc_model = RandomForestClassifier()\n",
    "dt_model = DecisionTreeClassifier()\n",
    "svm_model = SVC()"
   ]
  },
  {
   "cell_type": "markdown",
   "id": "794da4dc-41a9-4742-bebe-21181f7fe4d2",
   "metadata": {},
   "source": [
    "## Pure fit\n",
    "Sử dụng thuần các default-parameters của thư viện sklearn để train thử."
   ]
  },
  {
   "cell_type": "code",
   "execution_count": 38,
   "id": "4519782b-9eb7-4f88-b749-d14b735a3481",
   "metadata": {},
   "outputs": [
    {
     "name": "stdout",
     "output_type": "stream",
     "text": [
      "0.5849462365591398\n"
     ]
    }
   ],
   "source": [
    "# Pure fit\n",
    "rfc_model = rfc_model.fit(X_train, y_train)\n",
    "prediction = rfc_model.predict(X_val)\n",
    "print(accuracy_score(y_val, prediction))"
   ]
  },
  {
   "cell_type": "code",
   "execution_count": 39,
   "id": "6782b037-5d82-4c34-9642-39e6e043b649",
   "metadata": {},
   "outputs": [
    {
     "name": "stdout",
     "output_type": "stream",
     "text": [
      "0.44731182795698926\n"
     ]
    }
   ],
   "source": [
    "# Pure fit\n",
    "dt_model = dt_model.fit(X_train, y_train)\n",
    "prediction = dt_model.predict(X_val)\n",
    "print(accuracy_score(y_val, prediction))"
   ]
  },
  {
   "cell_type": "code",
   "execution_count": 40,
   "id": "0c9ba644-46c2-447a-bc1f-6feb8a73353e",
   "metadata": {},
   "outputs": [
    {
     "name": "stdout",
     "output_type": "stream",
     "text": [
      "0.556989247311828\n"
     ]
    }
   ],
   "source": [
    "# Pure fit\n",
    "svm_model = svm_model.fit(X_train, y_train)\n",
    "prediction = svm_model.predict(X_val)\n",
    "print(accuracy_score(y_val, prediction))"
   ]
  },
  {
   "cell_type": "markdown",
   "id": "f3c97106-1465-4ae1-9e56-d0144d3c5bc3",
   "metadata": {},
   "source": [
    "## Grid Search CV\n",
    "GridSearchCV của sklearn là một thư viện hỗ trợ trong việc tìm ra được parameters phù hợp nhất, cho ra accuracy cao nhất ở hiện tại, trả về các thông số train.<br>\n",
    "Có một hạn chế là GridSearchCV chỉ trả về một model best."
   ]
  },
  {
   "cell_type": "markdown",
   "id": "f272724a-2b05-4dc9-b959-3a5ec8f64fc7",
   "metadata": {},
   "source": [
    "## Param-Grid Design\n",
    "Tạo ra một param-grid hỗ trợ cho việc chạy của GridSearchCV"
   ]
  },
  {
   "cell_type": "code",
   "execution_count": 41,
   "id": "5cd5ec73-960e-4bf9-b3cd-840f00007287",
   "metadata": {},
   "outputs": [],
   "source": [
    "rfc_param_grid = {\n",
    "    'n_estimators': [100, 300, 500],\n",
    "    'max_depth': [None, 5, 10, 20],\n",
    "    'min_samples_split': [2, 5, 10],\n",
    "    'min_samples_leaf': [1, 2, 4],\n",
    "    'bootstrap': [True, False]\n",
    "}\n",
    "\n",
    "dt_param_grid = {\n",
    "    'criterion': ['gini', 'entropy'],\n",
    "    'max_depth': [None, 5, 10, 20],\n",
    "    'min_samples_split': [2, 5, 10],\n",
    "    'min_samples_leaf': [1, 2, 4]\n",
    "}\n",
    "\n",
    "svm_param_grid = {\n",
    "    'C': [0.1, 1, 10],\n",
    "    'kernel': ['linear', 'poly', 'rbf', 'sigmoid'],\n",
    "    'gamma': ['scale', 'auto']\n",
    "}"
   ]
  },
  {
   "cell_type": "markdown",
   "id": "287452f2-75d1-49ed-a2c7-11842b1dee2d",
   "metadata": {},
   "source": [
    "# With Pure Data\n",
    "Xử lí Grid-search-CV trên data thuần, chưa thông qua cân bằng data.\n",
    "<br>\n",
    "GridSearchCV có áp dụng đến phương pháp kfold."
   ]
  },
  {
   "cell_type": "code",
   "execution_count": 42,
   "id": "45192564-bc48-4c40-a05a-4ca1d1b2bcc2",
   "metadata": {},
   "outputs": [],
   "source": [
    "rfc_f = GridSearchCV(rfc_model, rfc_param_grid, verbose=2)\n",
    "dt_f = GridSearchCV(dt_model, dt_param_grid, verbose=2)\n",
    "svm_f = GridSearchCV(svm_model, svm_param_grid, verbose=2)"
   ]
  },
  {
   "cell_type": "markdown",
   "id": "f9ca4361-398a-4101-bd05-3ca491ce7ffc",
   "metadata": {},
   "source": [
    "## Fit DATA\n",
    "Tiến hành train data, sử dụng GridSearchCV() trên các model khác nhau.\n",
    "<br>\n",
    "Thời gian chạy khá lâu do Param-grid lớn."
   ]
  },
  {
   "cell_type": "markdown",
   "id": "82ea0d52-5a9b-4c9b-b1c6-4289d176f31a",
   "metadata": {},
   "source": [
    "### Random Forest Classifier"
   ]
  },
  {
   "cell_type": "code",
   "execution_count": null,
   "id": "9382450e-801c-4119-8864-960d3579c4cb",
   "metadata": {
    "scrolled": true
   },
   "outputs": [],
   "source": [
    "rfc_f.fit(X_train, y_train)"
   ]
  },
  {
   "cell_type": "code",
   "execution_count": 66,
   "id": "7725ff2d-d896-4231-94dd-c509d6ae2b43",
   "metadata": {},
   "outputs": [
    {
     "data": {
      "text/plain": [
       "RandomForestClassifier(min_samples_split=5)"
      ]
     },
     "execution_count": 66,
     "metadata": {},
     "output_type": "execute_result"
    }
   ],
   "source": [
    "best_rfc = rfc_f.best_estimator_\n",
    "best_rfc"
   ]
  },
  {
   "cell_type": "code",
   "execution_count": 67,
   "id": "9762cd0d-6d31-469d-bdd5-e53a6bbe8854",
   "metadata": {},
   "outputs": [
    {
     "data": {
      "text/plain": [
       "{'bootstrap': True,\n",
       " 'max_depth': None,\n",
       " 'min_samples_leaf': 1,\n",
       " 'min_samples_split': 5,\n",
       " 'n_estimators': 100}"
      ]
     },
     "execution_count": 67,
     "metadata": {},
     "output_type": "execute_result"
    }
   ],
   "source": [
    "rfc_f.best_params_"
   ]
  },
  {
   "cell_type": "markdown",
   "id": "9e1afa49-ad31-4d3e-93ec-fbc43ff8523c",
   "metadata": {},
   "source": [
    "### Desicion Tree Classifier"
   ]
  },
  {
   "cell_type": "code",
   "execution_count": null,
   "id": "5b7281fe-00c9-4f5a-8e71-757487eb68e2",
   "metadata": {
    "scrolled": true
   },
   "outputs": [],
   "source": [
    "dt_f.fit(X_train, y_train)"
   ]
  },
  {
   "cell_type": "code",
   "execution_count": 69,
   "id": "71f07f78-cd42-4c5f-9ac7-83db735e939a",
   "metadata": {},
   "outputs": [
    {
     "data": {
      "text/plain": [
       "DecisionTreeClassifier(max_depth=5)"
      ]
     },
     "execution_count": 69,
     "metadata": {},
     "output_type": "execute_result"
    }
   ],
   "source": [
    "best_dt = dt_f.best_estimator_\n",
    "best_dt"
   ]
  },
  {
   "cell_type": "code",
   "execution_count": 70,
   "id": "115c22c9-8821-476a-8e57-8586d2dd43b5",
   "metadata": {},
   "outputs": [
    {
     "data": {
      "text/plain": [
       "{'criterion': 'gini',\n",
       " 'max_depth': 5,\n",
       " 'min_samples_leaf': 1,\n",
       " 'min_samples_split': 2}"
      ]
     },
     "execution_count": 70,
     "metadata": {},
     "output_type": "execute_result"
    }
   ],
   "source": [
    "dt_f.best_params_"
   ]
  },
  {
   "cell_type": "markdown",
   "id": "2eeb9143-e622-4bab-b33b-bd2f45d2a9f7",
   "metadata": {},
   "source": [
    "### Sypport Vector Machine Classifier"
   ]
  },
  {
   "cell_type": "code",
   "execution_count": null,
   "id": "ac7fb8f4-fae0-4f64-a596-9f489ac1904f",
   "metadata": {
    "scrolled": true
   },
   "outputs": [],
   "source": [
    "svm_f.fit(X_train, y_train)"
   ]
  },
  {
   "cell_type": "code",
   "execution_count": 72,
   "id": "c3d399d4-0ff3-4a55-af43-adad486215be",
   "metadata": {},
   "outputs": [
    {
     "data": {
      "text/plain": [
       "SVC(C=1, kernel='poly')"
      ]
     },
     "execution_count": 72,
     "metadata": {},
     "output_type": "execute_result"
    }
   ],
   "source": [
    "best_svm = svm_f.best_estimator_\n",
    "best_svm"
   ]
  },
  {
   "cell_type": "code",
   "execution_count": 73,
   "id": "9b6f38ff-284a-418b-9b46-6eea15c4a3d8",
   "metadata": {},
   "outputs": [
    {
     "data": {
      "text/plain": [
       "{'C': 1, 'gamma': 'scale', 'kernel': 'poly'}"
      ]
     },
     "execution_count": 73,
     "metadata": {},
     "output_type": "execute_result"
    }
   ],
   "source": [
    "svm_f.best_params_"
   ]
  },
  {
   "cell_type": "markdown",
   "id": "0d5a75cd-232f-43ae-bb3b-6c4fe09a58bf",
   "metadata": {},
   "source": [
    "### Accuracy\n",
    "Đánh giá sử dụng metrics Accuracy trên 3 best model"
   ]
  },
  {
   "cell_type": "markdown",
   "id": "efc58611-57e6-4889-91aa-8f038847c294",
   "metadata": {},
   "source": [
    "## Best Model\n",
    "Dùng để giữ lại tham số Best Model để lần sau config nhanh hơn mà không cần phải train."
   ]
  },
  {
   "cell_type": "code",
   "execution_count": 46,
   "id": "c5cdf455-20ea-41c4-bea9-8be42fe7a2c7",
   "metadata": {},
   "outputs": [],
   "source": [
    "best_rfc = RandomForestClassifier(bootstrap=True, max_depth=20, min_samples_leaf=1, min_samples_split=2, n_estimators=100)\n",
    "best_dt = DecisionTreeClassifier(criterion='gini', max_depth=5, min_samples_leaf=2, min_samples_split=10)\n",
    "best_svm = SVC(C=1, gamma='scale', kernel='poly')"
   ]
  },
  {
   "cell_type": "markdown",
   "id": "88789c55-5456-42a3-88d0-a6a8f1b69d1b",
   "metadata": {},
   "source": [
    "Train model best:\n"
   ]
  },
  {
   "cell_type": "code",
   "execution_count": 47,
   "id": "bfe18736-df4f-43aa-8f05-103ede85e8db",
   "metadata": {},
   "outputs": [
    {
     "data": {
      "text/plain": [
       "SVC(C=1, kernel='poly')"
      ]
     },
     "execution_count": 47,
     "metadata": {},
     "output_type": "execute_result"
    }
   ],
   "source": [
    "best_rfc.fit(X_train, y_train)\n",
    "best_dt.fit(X_train, y_train)\n",
    "best_svm.fit(X_train, y_train)"
   ]
  },
  {
   "cell_type": "code",
   "execution_count": 48,
   "id": "6f39c73e-e97b-4504-bcff-e763ccd68046",
   "metadata": {},
   "outputs": [
    {
     "name": "stdout",
     "output_type": "stream",
     "text": [
      "              precision    recall  f1-score   support\n",
      "\n",
      "     country       1.00      0.15      0.26        27\n",
      "         pop       0.59      0.86      0.70       228\n",
      "         r-b       0.00      0.00      0.00        45\n",
      "         rap       0.58      0.53      0.55        80\n",
      "        rock       0.65      0.41      0.50        85\n",
      "\n",
      "    accuracy                           0.60       465\n",
      "   macro avg       0.56      0.39      0.40       465\n",
      "weighted avg       0.57      0.60      0.55       465\n",
      "\n"
     ]
    }
   ],
   "source": [
    "rfc_prediction = best_rfc.predict(X_val)\n",
    "print(classification_report(y_val, rfc_prediction))"
   ]
  },
  {
   "cell_type": "code",
   "execution_count": 52,
   "id": "5914f2a5-132b-4235-94c8-5980746efc5e",
   "metadata": {},
   "outputs": [
    {
     "name": "stdout",
     "output_type": "stream",
     "text": [
      "              precision    recall  f1-score   support\n",
      "\n",
      "     country       0.00      0.00      0.00        27\n",
      "         pop       0.53      0.81      0.64       228\n",
      "         r-b       0.25      0.02      0.04        45\n",
      "         rap       0.51      0.41      0.46        80\n",
      "        rock       0.53      0.31      0.39        85\n",
      "\n",
      "    accuracy                           0.53       465\n",
      "   macro avg       0.36      0.31      0.31       465\n",
      "weighted avg       0.47      0.53      0.47       465\n",
      "\n"
     ]
    }
   ],
   "source": [
    "dt_prediction = best_dt.predict(X_val)\n",
    "print(classification_report(y_val, dt_prediction))"
   ]
  },
  {
   "cell_type": "code",
   "execution_count": 50,
   "id": "46218dd0-bc2a-4b80-a895-4747a77f5113",
   "metadata": {},
   "outputs": [
    {
     "name": "stdout",
     "output_type": "stream",
     "text": [
      "              precision    recall  f1-score   support\n",
      "\n",
      "     country       0.00      0.00      0.00        27\n",
      "         pop       0.57      0.85      0.68       228\n",
      "         r-b       0.00      0.00      0.00        45\n",
      "         rap       0.58      0.44      0.50        80\n",
      "        rock       0.62      0.45      0.52        85\n",
      "\n",
      "    accuracy                           0.57       465\n",
      "   macro avg       0.36      0.35      0.34       465\n",
      "weighted avg       0.49      0.57      0.52       465\n",
      "\n"
     ]
    }
   ],
   "source": [
    "svm_prediction = best_svm.predict(X_val)\n",
    "print(classification_report(y_val, svm_prediction))"
   ]
  },
  {
   "cell_type": "markdown",
   "id": "1b839ffb-444a-4014-af6f-e196d2f8c298",
   "metadata": {},
   "source": [
    "## Model Improvement\n",
    "Có nhiều phương pháp được sử dụng để cải thiện hiệu năng của Model, trong đó có thể thông qua cách tính toán độ quan trọng của Feature và drop Feature."
   ]
  },
  {
   "cell_type": "markdown",
   "id": "8d040b7f-ee03-4ea4-a6f4-3e9df240213e",
   "metadata": {},
   "source": [
    "### Feature Selection (For k from 4 to 13)\n",
    "Feature Selection được sử dụng để drop các features nhằm gia tăng độ quan trọng cho các features khác, từ đó có khả năng tập trung hơn vào các features quan trọng, tăng độ chính xác trong dự đoán."
   ]
  },
  {
   "cell_type": "code",
   "execution_count": 54,
   "id": "9a065b31-4796-48ac-85fe-54b3ab95268f",
   "metadata": {},
   "outputs": [
    {
     "name": "stdout",
     "output_type": "stream",
     "text": [
      "svm with k = 3, accuracy = 0.4892703862660944\n",
      "svm with k = 4, accuracy = 0.5021459227467812\n",
      "svm with k = 4, accuracy = 0.5021459227467812\n",
      "rfc with k = 6, accuracy = 0.5150214592274678\n",
      "svm with k = 7, accuracy = 0.5321888412017167\n",
      "rfc with k = 8, accuracy = 0.5450643776824035\n",
      "svm with k = 9, accuracy = 0.575107296137339\n",
      "rfc with k = 10, accuracy = 0.5793991416309013\n",
      "rfc with k = 10, accuracy = 0.5793991416309013\n"
     ]
    }
   ],
   "source": [
    "acc_best = 0\n",
    "best_model = ''\n",
    "for i in range(3,12):\n",
    "    X_with_selectKBest = SelectKBest(chi2, k=i).fit_transform(data_train, label_train)\n",
    "    X_train, X_test, y_train, y_test = train_test_split(X_with_selectKBest, label_train, test_size = 0.2, random_state = 18) \n",
    "    \n",
    "    best_rfc = best_rfc.fit(X_train, y_train)\n",
    "    predictions = best_rfc.predict(X_test)\n",
    "    acc = accuracy_score(y_test, predictions)\n",
    "\n",
    "    if acc > acc_best:\n",
    "        acc_best = acc\n",
    "        best_model = \"rfc with k = {}, accuracy = {}\".format(i, acc)\n",
    "\n",
    "    best_dt = best_dt.fit(X_train, y_train)\n",
    "    predictions = best_dt.predict(X_test)\n",
    "    acc = accuracy_score(y_test, predictions)\n",
    "\n",
    "    if acc > acc_best:\n",
    "        acc_best = acc\n",
    "        best_model = \"dt with k = {}, accuracy = {}\".format(i, acc)\n",
    "\n",
    "    best_svm = best_svm.fit(X_train, y_train)\n",
    "    predictions = best_svm.predict(X_test)\n",
    "    acc = accuracy_score(y_test, predictions)\n",
    "\n",
    "    if acc > acc_best:\n",
    "        acc_best = acc\n",
    "        best_model = \"svm with k = {}, accuracy = {}\".format(i, acc)\n",
    "\n",
    "    print(best_model)"
   ]
  },
  {
   "cell_type": "markdown",
   "id": "056cfb55-5a16-4667-b6a7-1a5244f28f8a",
   "metadata": {},
   "source": [
    "Qua đây có thể thấy được, việc sử dụng best-RFC với 10 cột feature (tức là bỏ đi 4 cột) đã cho kết quả cải thiện đáng kể.<br>\n",
    "Tiến hành thử trên tập test:"
   ]
  },
  {
   "cell_type": "code",
   "execution_count": 55,
   "id": "c3cf9f8b-6a25-432b-809f-3e0d60916e85",
   "metadata": {},
   "outputs": [
    {
     "name": "stdout",
     "output_type": "stream",
     "text": [
      "              precision    recall  f1-score   support\n",
      "\n",
      "     country       0.00      0.00      0.00         2\n",
      "         pop       0.62      0.80      0.70        30\n",
      "         r-b       1.00      0.20      0.33         5\n",
      "         rap       0.78      0.58      0.67        12\n",
      "        rock       0.40      0.40      0.40        10\n",
      "\n",
      "    accuracy                           0.61        59\n",
      "   macro avg       0.56      0.40      0.42        59\n",
      "weighted avg       0.62      0.61      0.59        59\n",
      "\n"
     ]
    }
   ],
   "source": [
    "X_with_selectKBest = SelectKBest(chi2, k=11).fit_transform(data_test, label_test)\n",
    "X_train, X_test, y_train, y_test = train_test_split(X_with_selectKBest, label_test, test_size = 0.2, random_state = 18) \n",
    "\n",
    "best_rfc = best_rfc.fit(X_train, y_train)\n",
    "predictions = best_rfc.predict(X_test)\n",
    "print(classification_report(y_test, predictions))"
   ]
  },
  {
   "cell_type": "markdown",
   "id": "b6dd49fe-178a-4d2e-8efb-d3906535cbcf",
   "metadata": {},
   "source": [
    "Kết quả có cao hơn so với trước !"
   ]
  },
  {
   "cell_type": "markdown",
   "id": "03c8d4d4-a488-4347-be24-e46609332d26",
   "metadata": {},
   "source": [
    "### MODEL Selection"
   ]
  },
  {
   "cell_type": "markdown",
   "id": "36ef03d5-f6ba-4a05-b5df-0fb1f3885fa8",
   "metadata": {},
   "source": [
    "### DROP Features\n",
    "Việc drop features có thể thực hiện bằng tay thông qua việc sử dụng correlation để tìm sự tương quan giữa các cột."
   ]
  },
  {
   "cell_type": "code",
   "execution_count": 56,
   "id": "94ac97e3-2235-469c-82fc-30c25f5011be",
   "metadata": {},
   "outputs": [
    {
     "data": {
      "image/png": "[encoded data removed]",
      "text/plain": [
       "<Figure size 1000x800 with 2 Axes>"
      ]
     },
     "metadata": {},
     "output_type": "display_data"
    }
   ],
   "source": [
    "correlation_matrix = data_train.corr()\n",
    "\n",
    "# Vẽ bản đồ nhiệt\n",
    "plt.figure(figsize=(10, 8))\n",
    "sns.heatmap(correlation_matrix, annot=True, cmap='coolwarm', fmt='.2f')\n",
    "plt.title('Correlation Heatmap')\n",
    "plt.show()"
   ]
  },
  {
   "cell_type": "markdown",
   "id": "b1dc8aa1-e03a-47d8-97ea-e9e2528a6c26",
   "metadata": {},
   "source": [
    "Có thể thấy, một vài cột chỉ số tương quan rất thấp, hầu như không có, có thể bỏ các cột đó nhằm tăng độ tập trung trên data.<br>\n",
    "Dưới đây sẽ thử drop các cột có độ tương quan <0.2 (trên từng cột)"
   ]
  },
  {
   "cell_type": "code",
   "execution_count": 59,
   "id": "217976d1-918a-45c3-bbe8-6eb8e673e408",
   "metadata": {
    "scrolled": true
   },
   "outputs": [
    {
     "name": "stdout",
     "output_type": "stream",
     "text": [
      "Cột được chọn làm mốc:  danceability\n",
      "Accuracy của RFC:  0.51931330472103\n",
      "Cột được chọn làm mốc:  energy\n",
      "Accuracy của RFC:  0.45493562231759654\n",
      "Cột được chọn làm mốc:  key\n",
      "Accuracy của RFC:  0.45493562231759654\n",
      "Cột được chọn làm mốc:  loudness\n",
      "Accuracy của RFC:  0.5021459227467812\n",
      "Cột được chọn làm mốc:  mode\n",
      "Accuracy của RFC:  0.45493562231759654\n",
      "Cột được chọn làm mốc:  speechiness\n",
      "Accuracy của RFC:  0.4034334763948498\n",
      "Cột được chọn làm mốc:  acousticness\n",
      "Accuracy của RFC:  0.4248927038626609\n",
      "Cột được chọn làm mốc:  instrumentalness\n",
      "Accuracy của RFC:  0.3905579399141631\n",
      "Cột được chọn làm mốc:  liveness\n",
      "Accuracy của RFC:  0.34763948497854075\n",
      "Cột được chọn làm mốc:  valence\n",
      "Accuracy của RFC:  0.4978540772532189\n",
      "Cột được chọn làm mốc:  tempo\n",
      "Accuracy của RFC:  0.351931330472103\n",
      "Cột được chọn làm mốc:  duration_ms\n",
      "Accuracy của RFC:  0.3261802575107296\n",
      "Cột được chọn làm mốc:  time_signature\n",
      "Accuracy của RFC:  0.45493562231759654\n",
      "Cột được chọn làm mốc:  popularity\n",
      "Accuracy của RFC:  0.45493562231759654\n"
     ]
    }
   ],
   "source": [
    "correlation_matrix = data_train.corr()\n",
    "\n",
    "# columns_to_drop = set() \n",
    "for i in correlation_matrix.columns:\n",
    "    columns_to_drop = set() \n",
    "    for j in correlation_matrix.columns:\n",
    "        if abs(correlation_matrix[i][j]) < 0.2 and i != j:  \n",
    "            columns_to_drop.add(j)\n",
    "\n",
    "    data_filtered = data_train.drop(columns=columns_to_drop)\n",
    "    \n",
    "    X_train, X_test, y_train, y_test = train_test_split(data_filtered, label_train, test_size = 0.2, random_state = 18)     \n",
    "    best_rfc = best_rfc.fit(X_train, y_train)\n",
    "    predictions = best_rfc.predict(X_test)\n",
    "    acc = accuracy_score(y_test, predictions)\n",
    "    print(\"Cột được chọn làm mốc: \", i)\n",
    "    print(\"Accuracy của RFC: \", acc)"
   ]
  },
  {
   "cell_type": "markdown",
   "id": "75ae983f-e812-42ba-924b-b9a2ce8df20d",
   "metadata": {},
   "source": [
    "Có thể thấy RFC có tăng đáng kể accuracy khi dùng Loudness và Danceability làm mốc, tức là cột này phủ độ tương quan khá tốt với các cột còn lại.<br>\n",
    "Tiến hành thử trên tỉ lệ thấp hơn là 0.1"
   ]
  },
  {
   "cell_type": "code",
   "execution_count": 61,
   "id": "9d6d6201-5cb0-4b40-aedd-1729ebe3136e",
   "metadata": {
    "scrolled": true
   },
   "outputs": [
    {
     "name": "stdout",
     "output_type": "stream",
     "text": [
      "Cột được chọn làm mốc:  danceability\n",
      "Accuracy của RFC:  0.5836909871244635\n",
      "Cột được chọn làm mốc:  energy\n",
      "Accuracy của RFC:  0.5150214592274678\n",
      "Cột được chọn làm mốc:  key\n",
      "Accuracy của RFC:  0.45493562231759654\n",
      "Cột được chọn làm mốc:  loudness\n",
      "Accuracy của RFC:  0.51931330472103\n",
      "Cột được chọn làm mốc:  mode\n",
      "Accuracy của RFC:  0.3648068669527897\n",
      "Cột được chọn làm mốc:  speechiness\n",
      "Accuracy của RFC:  0.39914163090128757\n",
      "Cột được chọn làm mốc:  acousticness\n",
      "Accuracy của RFC:  0.5107296137339056\n",
      "Cột được chọn làm mốc:  instrumentalness\n",
      "Accuracy của RFC:  0.5064377682403434\n",
      "Cột được chọn làm mốc:  liveness\n",
      "Accuracy của RFC:  0.3905579399141631\n",
      "Cột được chọn làm mốc:  valence\n",
      "Accuracy của RFC:  0.5321888412017167\n",
      "Cột được chọn làm mốc:  tempo\n",
      "Accuracy của RFC:  0.39914163090128757\n",
      "Cột được chọn làm mốc:  duration_ms\n",
      "Accuracy của RFC:  0.48068669527896996\n",
      "Cột được chọn làm mốc:  time_signature\n",
      "Accuracy của RFC:  0.44206008583690987\n",
      "Cột được chọn làm mốc:  popularity\n",
      "Accuracy của RFC:  0.4248927038626609\n"
     ]
    }
   ],
   "source": [
    "correlation_matrix = data_train.corr()\n",
    "\n",
    "# columns_to_drop = set() \n",
    "for i in correlation_matrix.columns:\n",
    "    columns_to_drop = set() \n",
    "    for j in correlation_matrix.columns:\n",
    "        if abs(correlation_matrix[i][j]) < 0.1 and i != j:  \n",
    "            columns_to_drop.add(j)\n",
    "\n",
    "    data_filtered = data_train.drop(columns=columns_to_drop)\n",
    "    \n",
    "    X_train, X_test, y_train, y_test = train_test_split(data_filtered, label_train, test_size = 0.2, random_state = 18)     \n",
    "    best_rfc = best_rfc.fit(X_train, y_train)\n",
    "    predictions = best_rfc.predict(X_test)\n",
    "    acc = accuracy_score(y_test, predictions)\n",
    "    print(\"Cột được chọn làm mốc: \", i)\n",
    "    print(\"Accuracy của RFC: \", acc)"
   ]
  },
  {
   "cell_type": "markdown",
   "id": "ff9198a4-ac79-4cae-977f-e90ab89767fc",
   "metadata": {},
   "source": [
    "Độ chính xác cải thiện khá đáng kể trên tỉ lệ drop 0.1 trên cột Danceability, tiến hành thử với Desicion Tree model."
   ]
  },
  {
   "cell_type": "code",
   "execution_count": 62,
   "id": "82bda580-dcf2-46f8-852a-068b2432c7bd",
   "metadata": {
    "scrolled": true
   },
   "outputs": [
    {
     "name": "stdout",
     "output_type": "stream",
     "text": [
      "Cột được chọn làm mốc:  danceability\n",
      "Accuracy của RFC:  0.5064377682403434\n",
      "Cột được chọn làm mốc:  energy\n",
      "Accuracy của RFC:  0.4892703862660944\n",
      "Cột được chọn làm mốc:  key\n",
      "Accuracy của RFC:  0.45493562231759654\n",
      "Cột được chọn làm mốc:  loudness\n",
      "Accuracy của RFC:  0.5021459227467812\n",
      "Cột được chọn làm mốc:  mode\n",
      "Accuracy của RFC:  0.4592274678111588\n",
      "Cột được chọn làm mốc:  speechiness\n",
      "Accuracy của RFC:  0.48497854077253216\n",
      "Cột được chọn làm mốc:  acousticness\n",
      "Accuracy của RFC:  0.5236051502145923\n",
      "Cột được chọn làm mốc:  instrumentalness\n",
      "Accuracy của RFC:  0.5021459227467812\n",
      "Cột được chọn làm mốc:  liveness\n",
      "Accuracy của RFC:  0.43776824034334766\n",
      "Cột được chọn làm mốc:  valence\n",
      "Accuracy của RFC:  0.5236051502145923\n",
      "Cột được chọn làm mốc:  tempo\n",
      "Accuracy của RFC:  0.45493562231759654\n",
      "Cột được chọn làm mốc:  duration_ms\n",
      "Accuracy của RFC:  0.51931330472103\n",
      "Cột được chọn làm mốc:  time_signature\n",
      "Accuracy của RFC:  0.4592274678111588\n",
      "Cột được chọn làm mốc:  popularity\n",
      "Accuracy của RFC:  0.45493562231759654\n"
     ]
    }
   ],
   "source": [
    "correlation_matrix = data_train.corr()\n",
    "\n",
    "# columns_to_drop = set() \n",
    "for i in correlation_matrix.columns:\n",
    "    columns_to_drop = set() \n",
    "    for j in correlation_matrix.columns:\n",
    "        if abs(correlation_matrix[i][j]) < 0.1 and i != j:  \n",
    "            columns_to_drop.add(j)\n",
    "\n",
    "    data_filtered = data_train.drop(columns=columns_to_drop)\n",
    "    \n",
    "    X_train, X_test, y_train, y_test = train_test_split(data_filtered, label_train, test_size = 0.2, random_state = 18)     \n",
    "    best_dt = best_dt.fit(X_train, y_train)\n",
    "    predictions = best_dt.predict(X_test)\n",
    "    acc = accuracy_score(y_test, predictions)\n",
    "    print(\"Cột được chọn làm mốc: \", i)\n",
    "    print(\"Accuracy của RFC: \", acc)"
   ]
  },
  {
   "cell_type": "markdown",
   "id": "5977c0e3-8637-4ec0-b730-6c062e206783",
   "metadata": {},
   "source": [
    "Tiến hành thử với SVM model."
   ]
  },
  {
   "cell_type": "code",
   "execution_count": 63,
   "id": "e05a3427-7556-4da5-b6e7-abb1003ca67c",
   "metadata": {
    "scrolled": true
   },
   "outputs": [
    {
     "name": "stdout",
     "output_type": "stream",
     "text": [
      "Cột được chọn làm mốc:  danceability\n",
      "Accuracy của RFC:  0.5622317596566524\n",
      "Cột được chọn làm mốc:  energy\n",
      "Accuracy của RFC:  0.5021459227467812\n",
      "Cột được chọn làm mốc:  key\n",
      "Accuracy của RFC:  0.45493562231759654\n",
      "Cột được chọn làm mốc:  loudness\n",
      "Accuracy của RFC:  0.5107296137339056\n",
      "Cột được chọn làm mốc:  mode\n",
      "Accuracy của RFC:  0.45493562231759654\n",
      "Cột được chọn làm mốc:  speechiness\n",
      "Accuracy của RFC:  0.49356223175965663\n",
      "Cột được chọn làm mốc:  acousticness\n",
      "Accuracy của RFC:  0.5364806866952789\n",
      "Cột được chọn làm mốc:  instrumentalness\n",
      "Accuracy của RFC:  0.5107296137339056\n",
      "Cột được chọn làm mốc:  liveness\n",
      "Accuracy của RFC:  0.45493562231759654\n",
      "Cột được chọn làm mốc:  valence\n",
      "Accuracy của RFC:  0.5450643776824035\n",
      "Cột được chọn làm mốc:  tempo\n",
      "Accuracy của RFC:  0.45493562231759654\n",
      "Cột được chọn làm mốc:  duration_ms\n",
      "Accuracy của RFC:  0.49356223175965663\n",
      "Cột được chọn làm mốc:  time_signature\n",
      "Accuracy của RFC:  0.45493562231759654\n",
      "Cột được chọn làm mốc:  popularity\n",
      "Accuracy của RFC:  0.45493562231759654\n"
     ]
    }
   ],
   "source": [
    "correlation_matrix = data_train.corr()\n",
    "\n",
    "# columns_to_drop = set() \n",
    "for i in correlation_matrix.columns:\n",
    "    columns_to_drop = set() \n",
    "    for j in correlation_matrix.columns:\n",
    "        if abs(correlation_matrix[i][j]) < 0.1 and i != j:  \n",
    "            columns_to_drop.add(j)\n",
    "\n",
    "    data_filtered = data_train.drop(columns=columns_to_drop)\n",
    "    \n",
    "    X_train, X_test, y_train, y_test = train_test_split(data_filtered, label_train, test_size = 0.2, random_state = 18)     \n",
    "    best_svm = best_svm.fit(X_train, y_train)\n",
    "    predictions = best_svm.predict(X_test)\n",
    "    acc = accuracy_score(y_test, predictions)\n",
    "    print(\"Cột được chọn làm mốc: \", i)\n",
    "    print(\"Accuracy của RFC: \", acc)"
   ]
  },
  {
   "cell_type": "markdown",
   "id": "9dc38942-123b-4772-8ae9-c99d0a172097",
   "metadata": {},
   "source": [
    "Có thể thấy thông qua quá trình trên, 0.58 là con số cao nhất đạt được thông qua việc drop feature sử dụng correlation với <b>threshold là 0.1</b> trong model <b>Random Forest</b> và cột mốc là <b>danceability</b>.<br>\n",
    "Tiến hành thử trên tập test:"
   ]
  },
  {
   "cell_type": "code",
   "execution_count": 66,
   "id": "fb455a9f-7434-409b-8849-e80e199c33f7",
   "metadata": {},
   "outputs": [
    {
     "data": {
      "text/plain": [
       "'danceability'"
      ]
     },
     "execution_count": 66,
     "metadata": {},
     "output_type": "execute_result"
    }
   ],
   "source": [
    "correlation_matrix.columns[0]"
   ]
  },
  {
   "cell_type": "code",
   "execution_count": 70,
   "id": "6af43852-b8b3-4639-aa7c-ceac0ace6f04",
   "metadata": {},
   "outputs": [
    {
     "name": "stdout",
     "output_type": "stream",
     "text": [
      "Cột được chọn làm mốc:  danceability\n",
      "Accuracy của RFC:  0.576271186440678\n",
      "              precision    recall  f1-score   support\n",
      "\n",
      "     country       1.00      0.50      0.67         2\n",
      "         pop       0.59      0.77      0.67        30\n",
      "         r-b       1.00      0.20      0.33         5\n",
      "         rap       0.62      0.42      0.50        12\n",
      "        rock       0.40      0.40      0.40        10\n",
      "\n",
      "    accuracy                           0.58        59\n",
      "   macro avg       0.72      0.46      0.51        59\n",
      "weighted avg       0.61      0.58      0.56        59\n",
      "\n"
     ]
    }
   ],
   "source": [
    "correlation_matrix = data_test.corr()\n",
    "\n",
    "# columns_to_drop = set() \n",
    "for i in correlation_matrix.columns[0:1]:\n",
    "    columns_to_drop = set() \n",
    "    for j in correlation_matrix.columns:\n",
    "        if abs(correlation_matrix[i][j]) < 0.1 and i != j:  \n",
    "            columns_to_drop.add(j)\n",
    "\n",
    "    data_filtered = data_test.drop(columns=columns_to_drop)\n",
    "    \n",
    "    X_train, X_test, y_train, y_test = train_test_split(data_filtered, label_test, test_size = 0.2, random_state = 18)     \n",
    "    best_rfc = best_rfc.fit(X_train, y_train)\n",
    "    predictions = best_rfc.predict(X_test)\n",
    "    acc = accuracy_score(y_test, predictions)\n",
    "    print(\"Cột được chọn làm mốc: \", i)\n",
    "    print(\"Accuracy của RFC: \", acc)\n",
    "    print(classification_report(y_test, predictions))"
   ]
  },
  {
   "cell_type": "markdown",
   "id": "c8d7ee71-983c-4130-ab67-d960bcab862f",
   "metadata": {},
   "source": [
    "### Recursive Feature Elimination (RFE)\n",
    "RFE sử dụng đệ quy để có thể từ từ loại bỏ đi các Feature nhằm gia tăng độ chính xác cho model"
   ]
  },
  {
   "cell_type": "markdown",
   "id": "3d4954d5-0b0e-4de3-92d7-357c5192f76e",
   "metadata": {},
   "source": [
    "### Random Forest Classifier with RFE\n",
    "Cài đặt:"
   ]
  },
  {
   "cell_type": "code",
   "execution_count": 71,
   "id": "e3a19462-1a1d-439a-9e70-ee3e77eb204f",
   "metadata": {},
   "outputs": [],
   "source": [
    "selector = RFE(best_rfc, n_features_to_select=5, step=1)\n",
    "selector = selector.fit(data_train, label_train)"
   ]
  },
  {
   "cell_type": "markdown",
   "id": "606c70dd-c3b8-468e-98c6-8e67877b29a9",
   "metadata": {},
   "source": [
    "Lấy các giá trị được tính toán:"
   ]
  },
  {
   "cell_type": "code",
   "execution_count": 72,
   "id": "f187a83a-0fa9-40af-b225-e9f323c67759",
   "metadata": {},
   "outputs": [
    {
     "data": {
      "text/plain": [
       "array([ True,  True, False, False, False,  True,  True, False, False,\n",
       "       False, False,  True, False, False])"
      ]
     },
     "execution_count": 72,
     "metadata": {},
     "output_type": "execute_result"
    }
   ],
   "source": [
    "selector.support_"
   ]
  },
  {
   "cell_type": "markdown",
   "id": "5c26d0c3-77d5-4aed-a118-e571f1ad82de",
   "metadata": {},
   "source": [
    "Filter data:"
   ]
  },
  {
   "cell_type": "code",
   "execution_count": 77,
   "id": "cad43587-5561-4748-9cfa-b79ec02ebcc3",
   "metadata": {},
   "outputs": [],
   "source": [
    "dataRFE = data_train[selector.get_feature_names_out()]"
   ]
  },
  {
   "cell_type": "markdown",
   "id": "8d0e8e21-0a3c-4f62-b537-8a122c1eefec",
   "metadata": {},
   "source": [
    "Train/test split:"
   ]
  },
  {
   "cell_type": "code",
   "execution_count": 78,
   "id": "5ecc0d74-460c-4b07-88c1-92039d5e2170",
   "metadata": {},
   "outputs": [],
   "source": [
    "X_train, X_test, y_train, y_test = train_test_split(dataRFE, label_train, test_size = 0.2, random_state=18)"
   ]
  },
  {
   "cell_type": "code",
   "execution_count": 80,
   "id": "9448ccff-0372-45da-95d5-298417461bb4",
   "metadata": {},
   "outputs": [
    {
     "name": "stdout",
     "output_type": "stream",
     "text": [
      "0.5579399141630901\n"
     ]
    }
   ],
   "source": [
    "best_rfc = best_rfc.fit(X_train, y_train)\n",
    "prediction = best_rfc.predict(X_test)\n",
    "print(accuracy_score(y_test, prediction))"
   ]
  },
  {
   "cell_type": "markdown",
   "id": "3148c086-e6cc-46ea-b450-97cf956d552d",
   "metadata": {},
   "source": [
    "### Random Forest Classifier with DT\n",
    "Cài đặt:"
   ]
  },
  {
   "cell_type": "code",
   "execution_count": 84,
   "id": "fd5751d9-c4cb-49da-9fb2-3f245d161e29",
   "metadata": {},
   "outputs": [],
   "source": [
    "selector = RFE(best_dt, n_features_to_select=5, step=1)\n",
    "selector = selector.fit(data_train, label_train)"
   ]
  },
  {
   "cell_type": "code",
   "execution_count": 85,
   "id": "3b74c1f7-d02f-4e75-acce-ad8d281243e5",
   "metadata": {},
   "outputs": [
    {
     "data": {
      "text/plain": [
       "array([ True,  True, False, False, False,  True, False, False, False,\n",
       "       False,  True,  True, False, False])"
      ]
     },
     "execution_count": 85,
     "metadata": {},
     "output_type": "execute_result"
    }
   ],
   "source": [
    "selector.support_"
   ]
  },
  {
   "cell_type": "code",
   "execution_count": 86,
   "id": "e970dd5c-4c02-44bf-9999-e0082ce7f4ed",
   "metadata": {},
   "outputs": [],
   "source": [
    "dataRFE = data_train[selector.get_feature_names_out()]"
   ]
  },
  {
   "cell_type": "code",
   "execution_count": 87,
   "id": "ce1d7357-bf94-4dc1-a4ea-d250cb0e5130",
   "metadata": {},
   "outputs": [],
   "source": [
    "X_train, X_test, y_train, y_test = train_test_split(dataRFE, label_train, test_size = 0.2, random_state=18)"
   ]
  },
  {
   "cell_type": "code",
   "execution_count": 88,
   "id": "8d2cc56e-f2fd-4200-b514-fc5a92540b53",
   "metadata": {},
   "outputs": [
    {
     "name": "stdout",
     "output_type": "stream",
     "text": [
      "0.5622317596566524\n"
     ]
    }
   ],
   "source": [
    "best_dt = best_dt.fit(X_train, y_train)\n",
    "prediction = best_dt.predict(X_test)\n",
    "print(accuracy_score(y_test, prediction))"
   ]
  },
  {
   "cell_type": "markdown",
   "id": "4262a900-aab4-4f4a-8ba8-79ee878568f6",
   "metadata": {},
   "source": [
    "### Random Forest Classifier with SVM\n",
    "SVM Không được built-in để phục vụ cho việc lấy feature importance nên tạm thời không thể sử dụng!"
   ]
  },
  {
   "cell_type": "markdown",
   "id": "5ab001aa-4a59-48e4-a74f-6e0ffa1fd4c1",
   "metadata": {},
   "source": [
    "### RFE Với nhiều multi-drop (3-11)"
   ]
  },
  {
   "cell_type": "code",
   "execution_count": 96,
   "id": "d80ff1b5-4671-445d-bca8-d7013eeb8b11",
   "metadata": {},
   "outputs": [
    {
     "name": "stdout",
     "output_type": "stream",
     "text": [
      "dt with RFE: acc = 0.5278969957081545, num_drop = 3\n",
      "dt with RFE: acc = 0.575107296137339, num_drop = 4\n",
      "dt with RFE: acc = 0.575107296137339, num_drop = 4\n",
      "dt with RFE: acc = 0.575107296137339, num_drop = 4\n",
      "rfc with RFE: acc = 0.5836909871244635, num_drop = 7\n",
      "rfc with RFE: acc = 0.5836909871244635, num_drop = 7\n",
      "rfc with RFE: acc = 0.5836909871244635, num_drop = 7\n",
      "rfc with RFE: acc = 0.5836909871244635, num_drop = 7\n",
      "rfc with RFE: acc = 0.5836909871244635, num_drop = 7\n"
     ]
    }
   ],
   "source": [
    "best_acc = 0\n",
    "for i in range (3, 12):\n",
    "    selector = RFE(best_rfc, n_features_to_select=i, step=1)\n",
    "    selector = selector.fit(data_train, label_train)\n",
    "\n",
    "    dataRFE = data_train[selector.get_feature_names_out()]\n",
    "    X_train, X_test, y_train, y_test = train_test_split(dataRFE, label_train, test_size = 0.2, random_state=18)\n",
    "\n",
    "    best_rfc = best_rfc.fit(X_train, y_train)\n",
    "    prediction = best_rfc.predict(X_test)\n",
    "    acc = (accuracy_score(y_test, prediction))\n",
    "\n",
    "    if acc > best_acc:\n",
    "        best_acc = acc\n",
    "        result = \"rfc with RFE: acc = {}, num_drop = {}\".format(acc, i)\n",
    "\n",
    "    best_dt = best_dt.fit(X_train, y_train)\n",
    "    prediction = best_dt.predict(X_test)\n",
    "    acc = (accuracy_score(y_test, prediction))\n",
    "\n",
    "    if acc > best_acc:\n",
    "        best_acc = acc\n",
    "        result = \"dt with RFE: acc = {}, num_drop = {}\".format(acc, i)\n",
    "\n",
    "    print(result)"
   ]
  },
  {
   "cell_type": "markdown",
   "id": "66916a1c-10c4-4e23-a813-f929d9fe0c10",
   "metadata": {},
   "source": [
    "Có thể thấy kết quả cho ra tốt nhất trên model rfc với num_drop = 7!<br>\n",
    "### Tiến hành thử nghiệm trên tập test:"
   ]
  },
  {
   "cell_type": "code",
   "execution_count": 98,
   "id": "d4790859-40ca-4b51-8f51-9c299b824b3f",
   "metadata": {},
   "outputs": [
    {
     "name": "stdout",
     "output_type": "stream",
     "text": [
      "0.5876288659793815\n"
     ]
    }
   ],
   "source": [
    "selector = RFE(best_rfc, n_features_to_select=5, step=1)\n",
    "selector = selector.fit(data_train, label_train)\n",
    "\n",
    "dataRFE = data_train[selector.get_feature_names_out()]\n",
    "best_rfc = best_rfc.fit(dataRFE, label_train)\n",
    "\n",
    "dataRFE_test = data_test[selector.get_feature_names_out()]\n",
    "prediction = best_rfc.predict(dataRFE_test)\n",
    "print(accuracy_score(label_test, prediction))"
   ]
  },
  {
   "cell_type": "markdown",
   "id": "14fd8494-bbf7-49f5-821b-916df22c3de3",
   "metadata": {},
   "source": [
    "# Balance Data (Reduce Pop Data to 250)"
   ]
  },
  {
   "cell_type": "code",
   "execution_count": 120,
   "id": "83508624-b96f-4bf3-b0d8-3343680c6fdb",
   "metadata": {},
   "outputs": [
    {
     "data": {
      "text/plain": [
       "tags\n",
       "pop        705\n",
       "rap        270\n",
       "rock       255\n",
       "r-b        137\n",
       "country     86\n",
       "Name: count, dtype: int64"
      ]
     },
     "execution_count": 120,
     "metadata": {},
     "output_type": "execute_result"
    }
   ],
   "source": [
    "label.value_counts()"
   ]
  },
  {
   "cell_type": "code",
   "execution_count": 121,
   "id": "9aa8bd86-6da5-4fc2-bd4a-0b10e79f1f8b",
   "metadata": {},
   "outputs": [
    {
     "data": {
      "text/html": [
       "<div>\n",
       "<style scoped>\n",
       "    .dataframe tbody tr th:only-of-type {\n",
       "        vertical-align: middle;\n",
       "    }\n",
       "\n",
       "    .dataframe tbody tr th {\n",
       "        vertical-align: top;\n",
       "    }\n",
       "\n",
       "    .dataframe thead th {\n",
       "        text-align: right;\n",
       "    }\n",
       "</style>\n",
       "<table border=\"1\" class=\"dataframe\">\n",
       "  <thead>\n",
       "    <tr style=\"text-align: right;\">\n",
       "      <th></th>\n",
       "      <th>danceability</th>\n",
       "      <th>energy</th>\n",
       "      <th>key</th>\n",
       "      <th>loudness</th>\n",
       "      <th>mode</th>\n",
       "      <th>speechiness</th>\n",
       "      <th>acousticness</th>\n",
       "      <th>instrumentalness</th>\n",
       "      <th>liveness</th>\n",
       "      <th>valence</th>\n",
       "      <th>...</th>\n",
       "      <th>time_signature</th>\n",
       "      <th>popularity</th>\n",
       "      <th>song_name</th>\n",
       "      <th>artist_name</th>\n",
       "      <th>genius_id</th>\n",
       "      <th>lyric</th>\n",
       "      <th>tags</th>\n",
       "      <th>tier</th>\n",
       "      <th>genius_url</th>\n",
       "      <th>released_year</th>\n",
       "    </tr>\n",
       "  </thead>\n",
       "  <tbody>\n",
       "    <tr>\n",
       "      <th>154</th>\n",
       "      <td>0.611722</td>\n",
       "      <td>0.803760</td>\n",
       "      <td>0.818182</td>\n",
       "      <td>0.869724</td>\n",
       "      <td>0.0</td>\n",
       "      <td>0.067570</td>\n",
       "      <td>0.144584</td>\n",
       "      <td>0.642351</td>\n",
       "      <td>0.103521</td>\n",
       "      <td>0.221990</td>\n",
       "      <td>...</td>\n",
       "      <td>0.75</td>\n",
       "      <td>0.15</td>\n",
       "      <td>WHERE SHE GOES</td>\n",
       "      <td>Bad Bunny</td>\n",
       "      <td>9123229</td>\n",
       "      <td>Baby, dime la verdad Si te olvidaste de mí Yo...</td>\n",
       "      <td>pop</td>\n",
       "      <td>D</td>\n",
       "      <td>https://genius.com/Bad-bunny-where-she-goes-ly...</td>\n",
       "      <td>2023.0</td>\n",
       "    </tr>\n",
       "    <tr>\n",
       "      <th>666</th>\n",
       "      <td>0.681319</td>\n",
       "      <td>0.740060</td>\n",
       "      <td>0.090909</td>\n",
       "      <td>0.868795</td>\n",
       "      <td>1.0</td>\n",
       "      <td>0.036776</td>\n",
       "      <td>0.074715</td>\n",
       "      <td>0.001641</td>\n",
       "      <td>0.084285</td>\n",
       "      <td>0.616127</td>\n",
       "      <td>...</td>\n",
       "      <td>0.75</td>\n",
       "      <td>0.75</td>\n",
       "      <td>LALA</td>\n",
       "      <td>Myke Towers</td>\n",
       "      <td>8902658</td>\n",
       "      <td>La-la-la-la-la-la (Full Harmony) La-la-la-la-...</td>\n",
       "      <td>pop</td>\n",
       "      <td>D</td>\n",
       "      <td>https://genius.com/Myke-towers-lala-lyrics</td>\n",
       "      <td>2023.0</td>\n",
       "    </tr>\n",
       "    <tr>\n",
       "      <th>724</th>\n",
       "      <td>0.725275</td>\n",
       "      <td>0.793486</td>\n",
       "      <td>0.818182</td>\n",
       "      <td>0.837916</td>\n",
       "      <td>0.0</td>\n",
       "      <td>0.063875</td>\n",
       "      <td>0.003632</td>\n",
       "      <td>0.001459</td>\n",
       "      <td>0.083353</td>\n",
       "      <td>0.881964</td>\n",
       "      <td>...</td>\n",
       "      <td>0.75</td>\n",
       "      <td>0.65</td>\n",
       "      <td>Houdini</td>\n",
       "      <td>Dua Lipa</td>\n",
       "      <td>9712938</td>\n",
       "      <td>Okay (Mmm) I come and I go Tell me all the wa...</td>\n",
       "      <td>pop</td>\n",
       "      <td>B</td>\n",
       "      <td>https://genius.com/Dua-lipa-houdini-lyrics</td>\n",
       "      <td>2023.0</td>\n",
       "    </tr>\n",
       "    <tr>\n",
       "      <th>701</th>\n",
       "      <td>0.561661</td>\n",
       "      <td>0.724648</td>\n",
       "      <td>0.090909</td>\n",
       "      <td>0.866677</td>\n",
       "      <td>1.0</td>\n",
       "      <td>0.008446</td>\n",
       "      <td>0.126384</td>\n",
       "      <td>0.000000</td>\n",
       "      <td>0.336675</td>\n",
       "      <td>0.424190</td>\n",
       "      <td>...</td>\n",
       "      <td>0.75</td>\n",
       "      <td>0.00</td>\n",
       "      <td>santa doesn’t know you like i do</td>\n",
       "      <td>Sabrina Carpenter</td>\n",
       "      <td>9666784</td>\n",
       "      <td>Santa Doesn't know you like I do I've been th...</td>\n",
       "      <td>pop</td>\n",
       "      <td>C</td>\n",
       "      <td>https://genius.com/Sabrina-carpenter-santa-doe...</td>\n",
       "      <td>2023.0</td>\n",
       "    </tr>\n",
       "  </tbody>\n",
       "</table>\n",
       "<p>4 rows × 22 columns</p>\n",
       "</div>"
      ],
      "text/plain": [
       "     danceability    energy       key  loudness  mode  speechiness  \\\n",
       "154      0.611722  0.803760  0.818182  0.869724   0.0     0.067570   \n",
       "666      0.681319  0.740060  0.090909  0.868795   1.0     0.036776   \n",
       "724      0.725275  0.793486  0.818182  0.837916   0.0     0.063875   \n",
       "701      0.561661  0.724648  0.090909  0.866677   1.0     0.008446   \n",
       "\n",
       "     acousticness  instrumentalness  liveness   valence  ...  time_signature  \\\n",
       "154      0.144584          0.642351  0.103521  0.221990  ...            0.75   \n",
       "666      0.074715          0.001641  0.084285  0.616127  ...            0.75   \n",
       "724      0.003632          0.001459  0.083353  0.881964  ...            0.75   \n",
       "701      0.126384          0.000000  0.336675  0.424190  ...            0.75   \n",
       "\n",
       "     popularity                         song_name        artist_name  \\\n",
       "154        0.15                    WHERE SHE GOES          Bad Bunny   \n",
       "666        0.75                              LALA        Myke Towers   \n",
       "724        0.65                           Houdini           Dua Lipa   \n",
       "701        0.00  santa doesn’t know you like i do  Sabrina Carpenter   \n",
       "\n",
       "    genius_id                                              lyric  tags tier  \\\n",
       "154   9123229   Baby, dime la verdad Si te olvidaste de mí Yo...   pop    D   \n",
       "666   8902658   La-la-la-la-la-la (Full Harmony) La-la-la-la-...   pop    D   \n",
       "724   9712938   Okay (Mmm) I come and I go Tell me all the wa...   pop    B   \n",
       "701   9666784   Santa Doesn't know you like I do I've been th...   pop    C   \n",
       "\n",
       "                                            genius_url released_year  \n",
       "154  https://genius.com/Bad-bunny-where-she-goes-ly...        2023.0  \n",
       "666         https://genius.com/Myke-towers-lala-lyrics        2023.0  \n",
       "724         https://genius.com/Dua-lipa-houdini-lyrics        2023.0  \n",
       "701  https://genius.com/Sabrina-carpenter-santa-doe...        2023.0  \n",
       "\n",
       "[4 rows x 22 columns]"
      ]
     },
     "execution_count": 121,
     "metadata": {},
     "output_type": "execute_result"
    }
   ],
   "source": [
    "df_normalized_sample_pop = df_normalized[df_normalized['tags'] == 'pop'].sample(250)\n",
    "df_normalized_sample_not_pop = df_normalized[df_normalized['tags'] != 'pop']\n",
    "df_normalized_sampled = pd.concat([df_normalized_sample_pop, df_normalized_sample_not_pop])\n",
    "df_normalized_sampled.head(4)"
   ]
  },
  {
   "cell_type": "code",
   "execution_count": 122,
   "id": "e98b4e7b-d815-4652-a222-6cff2cc8b059",
   "metadata": {},
   "outputs": [
    {
     "data": {
      "text/plain": [
       "tags\n",
       "rap        270\n",
       "rock       255\n",
       "pop        250\n",
       "r-b        137\n",
       "country     86\n",
       "Name: count, dtype: int64"
      ]
     },
     "execution_count": 122,
     "metadata": {},
     "output_type": "execute_result"
    }
   ],
   "source": [
    "df_normalized_sampled.tags.value_counts()"
   ]
  },
  {
   "cell_type": "markdown",
   "id": "e6b9915f-6f79-4852-99a5-1c414b525dfc",
   "metadata": {},
   "source": [
    "## Data Normalize"
   ]
  },
  {
   "cell_type": "code",
   "execution_count": 123,
   "id": "5f036a18-7309-4087-b103-1a4e5a4cea47",
   "metadata": {},
   "outputs": [],
   "source": [
    "data = df_normalized_sampled.iloc[:,:-8]\n",
    "label = df_normalized_sampled.tags"
   ]
  },
  {
   "cell_type": "code",
   "execution_count": 124,
   "id": "18ad2357-c09a-4b0d-9434-66789a6f9515",
   "metadata": {},
   "outputs": [
    {
     "data": {
      "text/html": [
       "<div>\n",
       "<style scoped>\n",
       "    .dataframe tbody tr th:only-of-type {\n",
       "        vertical-align: middle;\n",
       "    }\n",
       "\n",
       "    .dataframe tbody tr th {\n",
       "        vertical-align: top;\n",
       "    }\n",
       "\n",
       "    .dataframe thead th {\n",
       "        text-align: right;\n",
       "    }\n",
       "</style>\n",
       "<table border=\"1\" class=\"dataframe\">\n",
       "  <thead>\n",
       "    <tr style=\"text-align: right;\">\n",
       "      <th></th>\n",
       "      <th>danceability</th>\n",
       "      <th>energy</th>\n",
       "      <th>key</th>\n",
       "      <th>loudness</th>\n",
       "      <th>mode</th>\n",
       "      <th>speechiness</th>\n",
       "      <th>acousticness</th>\n",
       "      <th>instrumentalness</th>\n",
       "      <th>liveness</th>\n",
       "      <th>valence</th>\n",
       "      <th>tempo</th>\n",
       "      <th>duration_ms</th>\n",
       "      <th>time_signature</th>\n",
       "      <th>popularity</th>\n",
       "    </tr>\n",
       "  </thead>\n",
       "  <tbody>\n",
       "    <tr>\n",
       "      <th>154</th>\n",
       "      <td>0.611722</td>\n",
       "      <td>0.803760</td>\n",
       "      <td>0.818182</td>\n",
       "      <td>0.869724</td>\n",
       "      <td>0.0</td>\n",
       "      <td>0.067570</td>\n",
       "      <td>0.144584</td>\n",
       "      <td>0.642351</td>\n",
       "      <td>0.103521</td>\n",
       "      <td>0.221990</td>\n",
       "      <td>0.590129</td>\n",
       "      <td>0.313744</td>\n",
       "      <td>0.75</td>\n",
       "      <td>0.15</td>\n",
       "    </tr>\n",
       "    <tr>\n",
       "      <th>666</th>\n",
       "      <td>0.681319</td>\n",
       "      <td>0.740060</td>\n",
       "      <td>0.090909</td>\n",
       "      <td>0.868795</td>\n",
       "      <td>1.0</td>\n",
       "      <td>0.036776</td>\n",
       "      <td>0.074715</td>\n",
       "      <td>0.001641</td>\n",
       "      <td>0.084285</td>\n",
       "      <td>0.616127</td>\n",
       "      <td>0.268003</td>\n",
       "      <td>0.252944</td>\n",
       "      <td>0.75</td>\n",
       "      <td>0.75</td>\n",
       "    </tr>\n",
       "    <tr>\n",
       "      <th>724</th>\n",
       "      <td>0.725275</td>\n",
       "      <td>0.793486</td>\n",
       "      <td>0.818182</td>\n",
       "      <td>0.837916</td>\n",
       "      <td>0.0</td>\n",
       "      <td>0.063875</td>\n",
       "      <td>0.003632</td>\n",
       "      <td>0.001459</td>\n",
       "      <td>0.083353</td>\n",
       "      <td>0.881964</td>\n",
       "      <td>0.422847</td>\n",
       "      <td>0.231344</td>\n",
       "      <td>0.75</td>\n",
       "      <td>0.65</td>\n",
       "    </tr>\n",
       "    <tr>\n",
       "      <th>701</th>\n",
       "      <td>0.561661</td>\n",
       "      <td>0.724648</td>\n",
       "      <td>0.090909</td>\n",
       "      <td>0.866677</td>\n",
       "      <td>1.0</td>\n",
       "      <td>0.008446</td>\n",
       "      <td>0.126384</td>\n",
       "      <td>0.000000</td>\n",
       "      <td>0.336675</td>\n",
       "      <td>0.424190</td>\n",
       "      <td>0.317493</td>\n",
       "      <td>0.238246</td>\n",
       "      <td>0.75</td>\n",
       "      <td>0.00</td>\n",
       "    </tr>\n",
       "    <tr>\n",
       "      <th>881</th>\n",
       "      <td>0.603175</td>\n",
       "      <td>0.730813</td>\n",
       "      <td>0.727273</td>\n",
       "      <td>0.805440</td>\n",
       "      <td>1.0</td>\n",
       "      <td>0.021819</td>\n",
       "      <td>0.054897</td>\n",
       "      <td>0.171226</td>\n",
       "      <td>0.160644</td>\n",
       "      <td>0.434454</td>\n",
       "      <td>0.249464</td>\n",
       "      <td>0.173807</td>\n",
       "      <td>0.75</td>\n",
       "      <td>0.30</td>\n",
       "    </tr>\n",
       "    <tr>\n",
       "      <th>...</th>\n",
       "      <td>...</td>\n",
       "      <td>...</td>\n",
       "      <td>...</td>\n",
       "      <td>...</td>\n",
       "      <td>...</td>\n",
       "      <td>...</td>\n",
       "      <td>...</td>\n",
       "      <td>...</td>\n",
       "      <td>...</td>\n",
       "      <td>...</td>\n",
       "      <td>...</td>\n",
       "      <td>...</td>\n",
       "      <td>...</td>\n",
       "      <td>...</td>\n",
       "    </tr>\n",
       "    <tr>\n",
       "      <th>1439</th>\n",
       "      <td>0.000000</td>\n",
       "      <td>0.865406</td>\n",
       "      <td>0.363636</td>\n",
       "      <td>0.914053</td>\n",
       "      <td>0.0</td>\n",
       "      <td>0.064755</td>\n",
       "      <td>0.002025</td>\n",
       "      <td>0.196555</td>\n",
       "      <td>0.424108</td>\n",
       "      <td>0.356448</td>\n",
       "      <td>0.754488</td>\n",
       "      <td>0.307342</td>\n",
       "      <td>1.00</td>\n",
       "      <td>0.00</td>\n",
       "    </tr>\n",
       "    <tr>\n",
       "      <th>1446</th>\n",
       "      <td>0.655678</td>\n",
       "      <td>0.616768</td>\n",
       "      <td>0.363636</td>\n",
       "      <td>0.825394</td>\n",
       "      <td>1.0</td>\n",
       "      <td>0.010558</td>\n",
       "      <td>0.095140</td>\n",
       "      <td>0.000013</td>\n",
       "      <td>0.077640</td>\n",
       "      <td>0.675658</td>\n",
       "      <td>0.448206</td>\n",
       "      <td>0.350823</td>\n",
       "      <td>0.75</td>\n",
       "      <td>0.00</td>\n",
       "    </tr>\n",
       "    <tr>\n",
       "      <th>1447</th>\n",
       "      <td>0.588523</td>\n",
       "      <td>0.777047</td>\n",
       "      <td>0.545455</td>\n",
       "      <td>0.838659</td>\n",
       "      <td>1.0</td>\n",
       "      <td>0.020940</td>\n",
       "      <td>0.062986</td>\n",
       "      <td>0.000000</td>\n",
       "      <td>0.076125</td>\n",
       "      <td>0.479616</td>\n",
       "      <td>0.503667</td>\n",
       "      <td>0.312700</td>\n",
       "      <td>0.75</td>\n",
       "      <td>0.00</td>\n",
       "    </tr>\n",
       "    <tr>\n",
       "      <th>1448</th>\n",
       "      <td>0.416361</td>\n",
       "      <td>0.694853</td>\n",
       "      <td>0.000000</td>\n",
       "      <td>0.778054</td>\n",
       "      <td>0.0</td>\n",
       "      <td>0.026395</td>\n",
       "      <td>0.213341</td>\n",
       "      <td>0.000007</td>\n",
       "      <td>0.351830</td>\n",
       "      <td>0.415979</td>\n",
       "      <td>0.255869</td>\n",
       "      <td>0.361549</td>\n",
       "      <td>0.75</td>\n",
       "      <td>0.25</td>\n",
       "    </tr>\n",
       "    <tr>\n",
       "      <th>1451</th>\n",
       "      <td>0.175824</td>\n",
       "      <td>0.641426</td>\n",
       "      <td>1.000000</td>\n",
       "      <td>0.672934</td>\n",
       "      <td>1.0</td>\n",
       "      <td>0.011262</td>\n",
       "      <td>0.016474</td>\n",
       "      <td>0.222898</td>\n",
       "      <td>0.103521</td>\n",
       "      <td>0.225069</td>\n",
       "      <td>0.192269</td>\n",
       "      <td>0.861497</td>\n",
       "      <td>0.75</td>\n",
       "      <td>0.10</td>\n",
       "    </tr>\n",
       "  </tbody>\n",
       "</table>\n",
       "<p>998 rows × 14 columns</p>\n",
       "</div>"
      ],
      "text/plain": [
       "      danceability    energy       key  loudness  mode  speechiness  \\\n",
       "154       0.611722  0.803760  0.818182  0.869724   0.0     0.067570   \n",
       "666       0.681319  0.740060  0.090909  0.868795   1.0     0.036776   \n",
       "724       0.725275  0.793486  0.818182  0.837916   0.0     0.063875   \n",
       "701       0.561661  0.724648  0.090909  0.866677   1.0     0.008446   \n",
       "881       0.603175  0.730813  0.727273  0.805440   1.0     0.021819   \n",
       "...            ...       ...       ...       ...   ...          ...   \n",
       "1439      0.000000  0.865406  0.363636  0.914053   0.0     0.064755   \n",
       "1446      0.655678  0.616768  0.363636  0.825394   1.0     0.010558   \n",
       "1447      0.588523  0.777047  0.545455  0.838659   1.0     0.020940   \n",
       "1448      0.416361  0.694853  0.000000  0.778054   0.0     0.026395   \n",
       "1451      0.175824  0.641426  1.000000  0.672934   1.0     0.011262   \n",
       "\n",
       "      acousticness  instrumentalness  liveness   valence     tempo  \\\n",
       "154       0.144584          0.642351  0.103521  0.221990  0.590129   \n",
       "666       0.074715          0.001641  0.084285  0.616127  0.268003   \n",
       "724       0.003632          0.001459  0.083353  0.881964  0.422847   \n",
       "701       0.126384          0.000000  0.336675  0.424190  0.317493   \n",
       "881       0.054897          0.171226  0.160644  0.434454  0.249464   \n",
       "...            ...               ...       ...       ...       ...   \n",
       "1439      0.002025          0.196555  0.424108  0.356448  0.754488   \n",
       "1446      0.095140          0.000013  0.077640  0.675658  0.448206   \n",
       "1447      0.062986          0.000000  0.076125  0.479616  0.503667   \n",
       "1448      0.213341          0.000007  0.351830  0.415979  0.255869   \n",
       "1451      0.016474          0.222898  0.103521  0.225069  0.192269   \n",
       "\n",
       "      duration_ms  time_signature  popularity  \n",
       "154      0.313744            0.75        0.15  \n",
       "666      0.252944            0.75        0.75  \n",
       "724      0.231344            0.75        0.65  \n",
       "701      0.238246            0.75        0.00  \n",
       "881      0.173807            0.75        0.30  \n",
       "...           ...             ...         ...  \n",
       "1439     0.307342            1.00        0.00  \n",
       "1446     0.350823            0.75        0.00  \n",
       "1447     0.312700            0.75        0.00  \n",
       "1448     0.361549            0.75        0.25  \n",
       "1451     0.861497            0.75        0.10  \n",
       "\n",
       "[998 rows x 14 columns]"
      ]
     },
     "execution_count": 124,
     "metadata": {},
     "output_type": "execute_result"
    }
   ],
   "source": [
    "data"
   ]
  },
  {
   "cell_type": "markdown",
   "id": "8a2265f3-5aad-43b7-8b14-3f598f814742",
   "metadata": {},
   "source": [
    "## Train Test Split"
   ]
  },
  {
   "cell_type": "code",
   "execution_count": 125,
   "id": "859c98c1-5b8c-4c3c-a40f-be7505d7574c",
   "metadata": {},
   "outputs": [],
   "source": [
    "X_train, X_test, y_train, y_test = train_test_split(data, label, test_size = 0.2, random_state = 18) "
   ]
  },
  {
   "cell_type": "markdown",
   "id": "385ac377-eae8-4997-b1a4-dc0aa2e80239",
   "metadata": {},
   "source": [
    "## Pure fit"
   ]
  },
  {
   "cell_type": "code",
   "execution_count": 126,
   "id": "4acacb0b-27f3-45c3-b748-903c418c077d",
   "metadata": {},
   "outputs": [],
   "source": [
    "rfc_model = RandomForestClassifier()\n",
    "dt_model = DecisionTreeClassifier()\n",
    "svm_model = SVC()"
   ]
  },
  {
   "cell_type": "code",
   "execution_count": 127,
   "id": "521695b2-1f87-4160-855b-daf0a7db3f13",
   "metadata": {},
   "outputs": [
    {
     "name": "stdout",
     "output_type": "stream",
     "text": [
      "0.505\n"
     ]
    }
   ],
   "source": [
    "# Pure fit\n",
    "rfc_model = rfc_model.fit(X_train, y_train)\n",
    "prediction = rfc_model.predict(X_test)\n",
    "print(accuracy_score(y_test, prediction))"
   ]
  },
  {
   "cell_type": "code",
   "execution_count": 128,
   "id": "131c1308-17b7-43b3-81e6-5198ee95e4c3",
   "metadata": {},
   "outputs": [
    {
     "name": "stdout",
     "output_type": "stream",
     "text": [
      "0.4\n"
     ]
    }
   ],
   "source": [
    "# Pure fit\n",
    "dt_model = dt_model.fit(X_train, y_train)\n",
    "prediction = dt_model.predict(X_test)\n",
    "print(accuracy_score(y_test, prediction))"
   ]
  },
  {
   "cell_type": "code",
   "execution_count": 129,
   "id": "3dc8abb6-f192-496c-81f6-717a06d8984e",
   "metadata": {},
   "outputs": [
    {
     "name": "stdout",
     "output_type": "stream",
     "text": [
      "0.45\n"
     ]
    }
   ],
   "source": [
    "# Pure fit\n",
    "svm_model = svm_model.fit(X_train, y_train)\n",
    "prediction = svm_model.predict(X_test)\n",
    "print(accuracy_score(y_test, prediction))"
   ]
  },
  {
   "cell_type": "markdown",
   "id": "5f8625a7-4541-407b-84e7-f63014ba40ad",
   "metadata": {},
   "source": [
    "## GridSearchCV"
   ]
  },
  {
   "cell_type": "markdown",
   "id": "4d7ab7e2-c6f4-4fec-bba5-f2d581f81b0b",
   "metadata": {},
   "source": [
    "Sử dụng best model được lưu ở trên."
   ]
  },
  {
   "cell_type": "code",
   "execution_count": 130,
   "id": "bd5583eb-e64a-4673-8441-c4136a0e2070",
   "metadata": {},
   "outputs": [],
   "source": [
    "best_rfc = RandomForestClassifier(bootstrap=True, max_depth=20, min_samples_leaf=1, min_samples_split=2, n_estimators=100)\n",
    "best_dt = DecisionTreeClassifier(criterion='gini', max_depth=5, min_samples_leaf=2, min_samples_split=10)\n",
    "best_svm = SVC(C=1, gamma='scale', kernel='poly')"
   ]
  },
  {
   "cell_type": "markdown",
   "id": "40f44490-bb1f-4f61-b422-cb595fb5c99f",
   "metadata": {},
   "source": [
    "### Predict"
   ]
  },
  {
   "cell_type": "code",
   "execution_count": 131,
   "id": "cbed5a55-5cd9-4a41-8ed1-19df92b5a692",
   "metadata": {},
   "outputs": [
    {
     "name": "stdout",
     "output_type": "stream",
     "text": [
      "0.465\n"
     ]
    }
   ],
   "source": [
    "# Pure fit\n",
    "best_rfc = best_rfc.fit(X_train, y_train)\n",
    "prediction = best_rfc.predict(X_test)\n",
    "print(accuracy_score(y_test, prediction))"
   ]
  },
  {
   "cell_type": "code",
   "execution_count": 132,
   "id": "238c81e0-5dd5-48f7-afec-9f4ec3e531f0",
   "metadata": {},
   "outputs": [
    {
     "name": "stdout",
     "output_type": "stream",
     "text": [
      "0.405\n"
     ]
    }
   ],
   "source": [
    "# Pure fit\n",
    "best_dt = best_dt.fit(X_train, y_train)\n",
    "prediction = best_dt.predict(X_test)\n",
    "print(accuracy_score(y_test, prediction))"
   ]
  },
  {
   "cell_type": "code",
   "execution_count": 133,
   "id": "58424163-d7e8-490c-9b99-78078a036d1b",
   "metadata": {},
   "outputs": [
    {
     "name": "stdout",
     "output_type": "stream",
     "text": [
      "0.47\n"
     ]
    }
   ],
   "source": [
    "# Pure fit\n",
    "best_svm = best_svm.fit(X_train, y_train)\n",
    "prediction = best_svm.predict(X_test)\n",
    "print(accuracy_score(y_test, prediction))"
   ]
  },
  {
   "cell_type": "markdown",
   "id": "bc08ccf4-5462-4036-8744-ec653687d1a3",
   "metadata": {},
   "source": [
    "### Thử nghiệm với model improvement!"
   ]
  },
  {
   "cell_type": "code",
   "execution_count": 134,
   "id": "1b28d5e0-ea1f-4938-a983-3580f042cd66",
   "metadata": {},
   "outputs": [
    {
     "name": "stdout",
     "output_type": "stream",
     "text": [
      "svm with k = 3, accuracy = 0.44\n",
      "svm with k = 3, accuracy = 0.44\n",
      "svm with k = 3, accuracy = 0.44\n",
      "svm with k = 6, accuracy = 0.46\n",
      "rfc with k = 7, accuracy = 0.465\n",
      "rfc with k = 8, accuracy = 0.505\n",
      "rfc with k = 8, accuracy = 0.505\n",
      "rfc with k = 8, accuracy = 0.505\n",
      "rfc with k = 8, accuracy = 0.505\n"
     ]
    }
   ],
   "source": [
    "acc_best = 0\n",
    "best_model = ''\n",
    "for i in range(3,12):\n",
    "    X_with_selectKBest = SelectKBest(chi2, k=i).fit_transform(data, label)\n",
    "    X_train, X_test, y_train, y_test = train_test_split(X_with_selectKBest, label, test_size = 0.2, random_state = 18) \n",
    "    \n",
    "    best_rfc = best_rfc.fit(X_train, y_train)\n",
    "    predictions = best_rfc.predict(X_test)\n",
    "    acc = accuracy_score(y_test, predictions)\n",
    "\n",
    "    if acc > acc_best:\n",
    "        acc_best = acc\n",
    "        best_model = \"rfc with k = {}, accuracy = {}\".format(i, acc)\n",
    "\n",
    "    best_dt = best_dt.fit(X_train, y_train)\n",
    "    predictions = best_dt.predict(X_test)\n",
    "    acc = accuracy_score(y_test, predictions)\n",
    "\n",
    "    if acc > acc_best:\n",
    "        acc_best = acc\n",
    "        best_model = \"dt with k = {}, accuracy = {}\".format(i, acc)\n",
    "\n",
    "    best_svm = best_svm.fit(X_train, y_train)\n",
    "    predictions = best_svm.predict(X_test)\n",
    "    acc = accuracy_score(y_test, predictions)\n",
    "\n",
    "    if acc > acc_best:\n",
    "        acc_best = acc\n",
    "        best_model = \"svm with k = {}, accuracy = {}\".format(i, acc)\n",
    "\n",
    "    print(best_model)"
   ]
  },
  {
   "cell_type": "markdown",
   "id": "035ef3b2-9892-45ae-8266-ca418e511881",
   "metadata": {},
   "source": [
    "### Thử nghiệm với drop feature sử dụng correlation"
   ]
  },
  {
   "cell_type": "code",
   "execution_count": 135,
   "id": "54be5766-51f6-47a1-af78-7289950a1a54",
   "metadata": {},
   "outputs": [
    {
     "name": "stdout",
     "output_type": "stream",
     "text": [
      "Cột được chọn làm mốc:  danceability\n",
      "Accuracy của RFC:  0.42\n",
      "Cột được chọn làm mốc:  energy\n",
      "Accuracy của RFC:  0.36\n",
      "Cột được chọn làm mốc:  key\n",
      "Accuracy của RFC:  0.265\n",
      "Cột được chọn làm mốc:  loudness\n",
      "Accuracy của RFC:  0.395\n",
      "Cột được chọn làm mốc:  mode\n",
      "Accuracy của RFC:  0.275\n",
      "Cột được chọn làm mốc:  speechiness\n",
      "Accuracy của RFC:  0.36\n",
      "Cột được chọn làm mốc:  acousticness\n",
      "Accuracy của RFC:  0.31\n",
      "Cột được chọn làm mốc:  instrumentalness\n",
      "Accuracy của RFC:  0.235\n",
      "Cột được chọn làm mốc:  liveness\n",
      "Accuracy của RFC:  0.19\n",
      "Cột được chọn làm mốc:  valence\n",
      "Accuracy của RFC:  0.39\n",
      "Cột được chọn làm mốc:  tempo\n",
      "Accuracy của RFC:  0.255\n",
      "Cột được chọn làm mốc:  duration_ms\n",
      "Accuracy của RFC:  0.375\n",
      "Cột được chọn làm mốc:  time_signature\n",
      "Accuracy của RFC:  0.285\n",
      "Cột được chọn làm mốc:  popularity\n",
      "Accuracy của RFC:  0.215\n"
     ]
    }
   ],
   "source": [
    "correlation_matrix = data.corr()\n",
    "\n",
    "# columns_to_drop = set() \n",
    "for i in correlation_matrix.columns:\n",
    "    columns_to_drop = set() \n",
    "    for j in correlation_matrix.columns:\n",
    "        if abs(correlation_matrix[i][j]) < 0.2 and i != j:  \n",
    "            columns_to_drop.add(j)\n",
    "\n",
    "    data_filtered = data.drop(columns=columns_to_drop)\n",
    "    \n",
    "    X_train, X_test, y_train, y_test = train_test_split(data_filtered, label, test_size = 0.2, random_state = 18)     \n",
    "    best_rfc = best_rfc.fit(X_train, y_train)\n",
    "    predictions = best_rfc.predict(X_test)\n",
    "    acc = accuracy_score(y_test, predictions)\n",
    "    print(\"Cột được chọn làm mốc: \", i)\n",
    "    print(\"Accuracy của RFC: \", acc)\n",
    "    "
   ]
  },
  {
   "cell_type": "markdown",
   "id": "a3147cf3-e1a4-422e-a22a-1d61d3e1d210",
   "metadata": {},
   "source": [
    "Có thể thấy khi giảm data đi thì độ chính xác giảm rất sâu. Có thể đoán được rằng hiệu năng sẽ cải thiện nếu như có thêm data của các label khác, hạn chế việc balance data bằng việc cắt bớt đi dữ liệu."
   ]
  }
 ],
 "metadata": {
  "kernelspec": {
   "display_name": "Python 3 (ipykernel)",
   "language": "python",
   "name": "python3"
  },
  "language_info": {
   "codemirror_mode": {
    "name": "ipython",
    "version": 3
   },
   "file_extension": ".py",
   "mimetype": "text/x-python",
   "name": "python",
   "nbconvert_exporter": "python",
   "pygments_lexer": "ipython3",
   "version": "3.9.18"
  }
 },
 "nbformat": 4,
 "nbformat_minor": 5
}
